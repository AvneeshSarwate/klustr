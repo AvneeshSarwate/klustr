{
 "cells": [
  {
   "cell_type": "code",
   "execution_count": null,
   "metadata": {},
   "outputs": [],
   "source": [
    "import os\n",
    "import re\n",
    "import string\n",
    "\n",
    "\n",
    "sampleRootDirectory = os.path.expanduser(\"~/Desktop/Samples\")\n",
    "drumNames = [\"kick\", \"tom\", \"snare\", \"clap\", \"hi.hat\", \"click\", \"ride\", \"crash\"]\n",
    "\n",
    "\n",
    "\n",
    "\n",
    "\n",
    "#Collect all of the sample path strings\n",
    "fileNames = []\n",
    "for directory in os.walk(sampleRootDirectory):\n",
    "    for file in directory[2]:\n",
    "        oldPath = directory[0]+\"/\"+file\n",
    "        #shutil.copyfile(oldPath, newPath)\n",
    "        if oldPath[-4:] == '.wav':\n",
    "            fileNames.append(oldPath)\n",
    "\n",
    "        \n",
    "#Create the regex patterns used to filter the samples into drum classes\n",
    "makeRegex = lambda drumStr : '.*'+\"\".join(map(lambda c : '['+c+c.upper()+']' if c.isalpha else c, drumStr))+'.*'\n",
    "drumRegex = [makeRegex(drum) for drum in drumNames]\n",
    "\n",
    "\n",
    "#filter filenames into sets by matching vs regex\n",
    "drumSampleSets = {}\n",
    "for i in range(len(drumNames)):\n",
    "    drumSampleSets[drumNames[i]] = {fileName for fileName in fileNames if re.match(drumRegex[i], fileName)}\n",
    "    \n",
    "\n",
    "#check if any samples end up in more than 1 class\n",
    "intersections = []\n",
    "for i in range(len(drumNames)):\n",
    "    for j in range(i+1, len(drumNames)):\n",
    "        d1 = drumNames[i]\n",
    "        d2 = drumNames[j]\n",
    "        intersectionSet = drumSampleSets[d1] & drumSampleSets[d2]\n",
    "        if len(intersectionSet) > 0:\n",
    "            intersections.append([d1, d2, intersectionSet])\n",
    "            #print d1, d2, len(drumSampleSets[d1]), len(drumSampleSets[d2]), len(intersectionSet)\n",
    "\n",
    "#note - for some classes, this siginficantly reduces the number of samples\n",
    "for sect in intersections:\n",
    "    d1 = sect[0]\n",
    "    d2 = sect[1]\n",
    "    sectSet = sect[2]\n",
    "    drumSampleSets[d1] = drumSampleSets[d1] - sectSet\n",
    "    drumSampleSets[d2] = drumSampleSets[d2] - sectSet\n",
    "\n"
   ]
  }
 ],
 "metadata": {
  "kernelspec": {
   "display_name": "Python 2",
   "language": "python",
   "name": "python2"
  },
  "language_info": {
   "codemirror_mode": {
    "name": "ipython",
    "version": 2
   },
   "file_extension": ".py",
   "mimetype": "text/x-python",
   "name": "python",
   "nbconvert_exporter": "python",
   "pygments_lexer": "ipython2",
   "version": "2.7.13"
  }
 },
 "nbformat": 4,
 "nbformat_minor": 2
}
