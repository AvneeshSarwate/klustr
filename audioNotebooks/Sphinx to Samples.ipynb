{
 "cells": [
  {
   "cell_type": "markdown",
   "metadata": {},
   "source": [
    "This notebook uses sphinx via pocketsphinx to convert continuous recording of speech to a set of phonemes. On Mac you can install pocketsphinx with `brew install cmu-pocketsphinx`. This only works on audio that is 16KHz, and works at something like 5% realtime rate. So a 10 minute file might time 4 hours."
   ]
  },
  {
   "cell_type": "code",
   "execution_count": null,
   "metadata": {
    "collapsed": true
   },
   "outputs": [],
   "source": [
    "data_root = 'data/speech'\n",
    "sphinx_model_root = 'model' # point this to the folder called \"model\""
   ]
  },
  {
   "cell_type": "code",
   "execution_count": null,
   "metadata": {
    "collapsed": true
   },
   "outputs": [],
   "source": [
    "from os import environ, path\n",
    "from os.path import join\n",
    "from pocketsphinx.pocketsphinx import *\n",
    "from sphinxbase.sphinxbase import *\n",
    "from tqdm import tqdm\n",
    "from utils import *\n",
    "import librosa\n",
    "import os\n",
    "import numpy as np"
   ]
  },
  {
   "cell_type": "code",
   "execution_count": null,
   "metadata": {
    "collapsed": false
   },
   "outputs": [],
   "source": [
    "config = Decoder.default_config()\n",
    "config.set_string('-hmm', join(sphinx_model_root, 'en-us/en-us/'))\n",
    "config.set_string('-allphone', join(sphinx_model_root, 'en-us/en-us-phone.lm.bin'))\n",
    "decoder = Decoder(config)"
   ]
  },
  {
   "cell_type": "code",
   "execution_count": null,
   "metadata": {
    "collapsed": false
   },
   "outputs": [],
   "source": [
    "stream = open(join(data_root, 'raw/audio.wav'))\n",
    "total = os.fstat(stream.fileno()).st_size\n",
    "pbar = tqdm(total=total)\n",
    "buf_size = 1024\n",
    "decoder.start_utt()\n",
    "while True:\n",
    "    buf = stream.read(buf_size)\n",
    "    pbar.update(buf_size)\n",
    "    if buf:\n",
    "        decoder.process_raw(buf, False, False)\n",
    "    else:\n",
    "        break\n",
    "decoder.end_utt()"
   ]
  },
  {
   "cell_type": "code",
   "execution_count": null,
   "metadata": {
    "collapsed": false
   },
   "outputs": [],
   "source": [
    "y, sr = librosa.load(fn, sr=16000)\n",
    "frame_size = len(y) / decoder.n_frames()\n",
    "print frame_size"
   ]
  },
  {
   "cell_type": "code",
   "execution_count": null,
   "metadata": {
    "collapsed": false
   },
   "outputs": [],
   "source": [
    "for i, seg in enumerate(tqdm(decoder.seg(), leave=True)):\n",
    "    start_sample = frame_size * seg.start_frame\n",
    "    stop_sample = frame_size * seg.end_frame\n",
    "    cur = y[start_sample:stop_sample]\n",
    "    ffmpeg_save_audio(join(data_root, 'samples/{}.wav'.format(i)), cur, sr=sr)"
   ]
  }
 ],
 "metadata": {
  "kernelspec": {
   "display_name": "Python 2",
   "language": "python",
   "name": "python2"
  },
  "language_info": {
   "codemirror_mode": {
    "name": "ipython",
    "version": 2
   },
   "file_extension": ".py",
   "mimetype": "text/x-python",
   "name": "python",
   "nbconvert_exporter": "python",
   "pygments_lexer": "ipython2",
   "version": "2.7.11"
  }
 },
 "nbformat": 4,
 "nbformat_minor": 0
}
