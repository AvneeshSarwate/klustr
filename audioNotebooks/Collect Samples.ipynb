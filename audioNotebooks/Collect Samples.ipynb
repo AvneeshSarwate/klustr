{
 "cells": [
  {
   "cell_type": "markdown",
   "metadata": {},
   "source": [
    "This tool converts a folder of samples to a big rectangular matrix with one mono sample per row.\n",
    "\n",
    "Samples should be placed in `data/mydataset/samples/`. They could be `.mp3`, `.wav`, or anything else that ffmpeg can work with. They may be all in one folder, or in nested sub-folders.\n",
    "\n",
    "Change the path below to point to the root directory, e.g., `data/mydataset/`.\n",
    "\n",
    "The samplerate `sr` is not necessarily the native samplerate of the samples, it's the samplerate you want to load them at.\n",
    "\n",
    "The output of this notebook is:\n",
    "* `data/mydataset/durations.txt`\n",
    "* `data/mydataset/filenames.txt`\n",
    "* `data/mydataset/samples.npy`"
   ]
  },
  {
   "cell_type": "code",
   "execution_count": 1,
   "metadata": {},
   "outputs": [
    {
     "ename": "ImportError",
     "evalue": "No module named PIL.Image",
     "output_type": "error",
     "traceback": [
      "\u001b[0;31m---------------------------------------------------------------------------\u001b[0m",
      "\u001b[0;31mImportError\u001b[0m                               Traceback (most recent call last)",
      "\u001b[0;32m<ipython-input-1-2025a570a439>\u001b[0m in \u001b[0;36m<module>\u001b[0;34m()\u001b[0m\n\u001b[1;32m      4\u001b[0m \u001b[0;32mimport\u001b[0m \u001b[0mnumpy\u001b[0m \u001b[0;32mas\u001b[0m \u001b[0mnp\u001b[0m\u001b[0;34m\u001b[0m\u001b[0m\n\u001b[1;32m      5\u001b[0m \u001b[0;32mfrom\u001b[0m \u001b[0mos\u001b[0m\u001b[0;34m.\u001b[0m\u001b[0mpath\u001b[0m \u001b[0;32mimport\u001b[0m \u001b[0mjoin\u001b[0m\u001b[0;34m\u001b[0m\u001b[0m\n\u001b[0;32m----> 6\u001b[0;31m \u001b[0;32mfrom\u001b[0m \u001b[0mutils\u001b[0m \u001b[0;32mimport\u001b[0m \u001b[0;34m*\u001b[0m\u001b[0;34m\u001b[0m\u001b[0m\n\u001b[0m\u001b[1;32m      7\u001b[0m \u001b[0;32mfrom\u001b[0m \u001b[0mmultiprocessing\u001b[0m \u001b[0;32mimport\u001b[0m \u001b[0mPool\u001b[0m\u001b[0;34m\u001b[0m\u001b[0m\n\u001b[1;32m      8\u001b[0m \u001b[0;34m\u001b[0m\u001b[0m\n",
      "\u001b[0;32m/Users/lamtharnhantrakul/code/GTCMT/klustr/audioNotebooks/utils/__init__.py\u001b[0m in \u001b[0;36m<module>\u001b[0;34m()\u001b[0m\n\u001b[1;32m      2\u001b[0m \u001b[0;32mfrom\u001b[0m \u001b[0mffmpeg_load_audio\u001b[0m \u001b[0;32mimport\u001b[0m \u001b[0mffmpeg_load_audio\u001b[0m\u001b[0;34m\u001b[0m\u001b[0m\n\u001b[1;32m      3\u001b[0m \u001b[0;32mfrom\u001b[0m \u001b[0mffmpeg_save_audio\u001b[0m \u001b[0;32mimport\u001b[0m \u001b[0mffmpeg_save_audio\u001b[0m\u001b[0;34m\u001b[0m\u001b[0m\n\u001b[0;32m----> 4\u001b[0;31m \u001b[0;32mfrom\u001b[0m \u001b[0mshow_array\u001b[0m \u001b[0;32mimport\u001b[0m \u001b[0mshow_array\u001b[0m\u001b[0;34m\u001b[0m\u001b[0m\n\u001b[0m\u001b[1;32m      5\u001b[0m \u001b[0;32mfrom\u001b[0m \u001b[0mmake_mosaic\u001b[0m \u001b[0;32mimport\u001b[0m \u001b[0mmake_mosaic\u001b[0m\u001b[0;34m\u001b[0m\u001b[0m\n\u001b[1;32m      6\u001b[0m \u001b[0;32mfrom\u001b[0m \u001b[0mbhtsne\u001b[0m \u001b[0;32mimport\u001b[0m \u001b[0mbh_tsne\u001b[0m\u001b[0;34m\u001b[0m\u001b[0m\n",
      "\u001b[0;32m/Users/lamtharnhantrakul/code/GTCMT/klustr/audioNotebooks/utils/show_array.py\u001b[0m in \u001b[0;36m<module>\u001b[0;34m()\u001b[0m\n\u001b[1;32m      1\u001b[0m \u001b[0;32mfrom\u001b[0m \u001b[0mcStringIO\u001b[0m \u001b[0;32mimport\u001b[0m \u001b[0mStringIO\u001b[0m\u001b[0;34m\u001b[0m\u001b[0m\n\u001b[1;32m      2\u001b[0m \u001b[0;32mimport\u001b[0m \u001b[0mnumpy\u001b[0m \u001b[0;32mas\u001b[0m \u001b[0mnp\u001b[0m\u001b[0;34m\u001b[0m\u001b[0m\n\u001b[0;32m----> 3\u001b[0;31m \u001b[0;32mimport\u001b[0m \u001b[0mPIL\u001b[0m\u001b[0;34m.\u001b[0m\u001b[0mImage\u001b[0m\u001b[0;34m\u001b[0m\u001b[0m\n\u001b[0m\u001b[1;32m      4\u001b[0m \u001b[0;32mimport\u001b[0m \u001b[0mIPython\u001b[0m\u001b[0;34m.\u001b[0m\u001b[0mdisplay\u001b[0m\u001b[0;34m\u001b[0m\u001b[0m\n\u001b[1;32m      5\u001b[0m \u001b[0;32mimport\u001b[0m \u001b[0mshutil\u001b[0m\u001b[0;34m\u001b[0m\u001b[0m\n",
      "\u001b[0;31mImportError\u001b[0m: No module named PIL.Image"
     ]
    }
   ],
   "source": [
    "import os\n",
    "import re\n",
    "import string\n",
    "import numpy as np\n",
    "from os.path import join\n",
    "from utils import *\n",
    "from multiprocessing import Pool\n",
    "\n",
    "\n",
    "sampleRootDirectory = os.path.expanduser(\"~/Documents/Samples\")\n",
    "drumNames = [\"kick\", \"tom\", \"snare\", \"clap\", \"hi.hat\", \"ride\", \"crash\"]\n",
    "\n",
    "\n",
    "\n",
    "\n",
    "\n",
    "#Collect all of the sample path strings\n",
    "fileNames = []\n",
    "for directory in os.walk(sampleRootDirectory):\n",
    "    for file in directory[2]:\n",
    "        oldPath = directory[0]+\"/\"+file\n",
    "        #shutil.copyfile(oldPath, newPath)\n",
    "        if oldPath[-4:] == '.wav':\n",
    "            fileNames.append(oldPath)\n",
    "\n",
    "        \n",
    "#Create the regex patterns used to filter the samples into drum classes\n",
    "makeRegex = lambda drumStr : '.*'+\"\".join(map(lambda c : '['+c+c.upper()+']' if c.isalpha() else c, drumStr))+'.*'\n",
    "drumRegex = [makeRegex(drum) for drum in drumNames]\n",
    "\n",
    "\n",
    "#filter filenames into sets by matching vs regex\n",
    "drumSampleSets = {}\n",
    "for i in range(len(drumNames)):\n",
    "    drumSampleSets[drumNames[i]] = {fileName for fileName in fileNames if re.match(drumRegex[i], fileName)}\n",
    "    \n",
    "\n",
    "#check if any samples end up in more than 1 class\n",
    "intersections = []\n",
    "for i in range(len(drumNames)):\n",
    "    for j in range(i+1, len(drumNames)):\n",
    "        d1 = drumNames[i]\n",
    "        d2 = drumNames[j]\n",
    "        intersectionSet = drumSampleSets[d1] & drumSampleSets[d2]\n",
    "        if len(intersectionSet) > 0:\n",
    "            intersections.append([d1, d2, intersectionSet])\n",
    "            #print d1, d2, len(drumSampleSets[d1]), len(drumSampleSets[d2]), len(intersectionSet)\n",
    "\n",
    "#note - for some classes, this siginficantly reduces the number of samples\n",
    "for sect in intersections:\n",
    "    d1 = sect[0]\n",
    "    d2 = sect[1]\n",
    "    sectSet = sect[2]\n",
    "    drumSampleSets[d1] = drumSampleSets[d1] - sectSet\n",
    "    drumSampleSets[d2] = drumSampleSets[d2] - sectSet"
   ]
  },
  {
   "cell_type": "code",
   "execution_count": 52,
   "metadata": {
    "collapsed": true
   },
   "outputs": [],
   "source": [
    "data_root = 'drumData'\n",
    "sr = 48000\n",
    "max_length = sr*4 # ignore samples longer than 4 seconds\n",
    "fixed_length = sr/4 # trim all samples to 250 milliseconds\n",
    "limit = None # set this to 100 to only load the first 100 samples"
   ]
  },
  {
   "cell_type": "code",
   "execution_count": 53,
   "metadata": {
    "collapsed": true
   },
   "outputs": [],
   "source": [
    "def load_sample(fn, sr=None,\n",
    "                max_length=None, fixed_length=None, normalize=True):\n",
    "    if fn == '': # ignore empty filenames\n",
    "        return None\n",
    "    audio, _ = ffmpeg_load_audio(fn, sr, mono=True)\n",
    "    duration = len(audio)\n",
    "    if duration == 0: # ignore zero-length samples\n",
    "        return None\n",
    "    if max_length and duration >= max_length: # ignore long samples\n",
    "        return None\n",
    "    if fixed_length:\n",
    "        audio.resize(fixed_length)\n",
    "    max_val = np.abs(audio).max()\n",
    "    if max_val == 0: # ignore completely silent sounds\n",
    "        return None\n",
    "    if normalize:\n",
    "        audio /= max_val\n",
    "    return (fn, audio, duration)"
   ]
  },
  {
   "cell_type": "code",
   "execution_count": 54,
   "metadata": {},
   "outputs": [
    {
     "name": "stdout",
     "output_type": "stream",
     "text": [
      "CPU times: user 303 ms, sys: 569 ms, total: 872 ms\n",
      "Wall time: 29.5 s\n",
      "Processed 5395 samples for  kick\n",
      "CPU times: user 48 ms, sys: 55.8 ms, total: 104 ms\n",
      "Wall time: 3.85 s\n",
      "Processed 529 samples for  tom\n",
      "CPU times: user 204 ms, sys: 279 ms, total: 484 ms\n",
      "Wall time: 17 s\n",
      "Processed 2563 samples for  snare\n",
      "CPU times: user 112 ms, sys: 140 ms, total: 253 ms\n",
      "Wall time: 8.78 s\n",
      "Processed 1332 samples for  clap\n",
      "CPU times: user 20.2 ms, sys: 26.3 ms, total: 46.5 ms\n",
      "Wall time: 1.2 s\n",
      "Processed 167 samples for  hi.hat\n",
      "CPU times: user 29 ms, sys: 30.2 ms, total: 59.3 ms\n",
      "Wall time: 2.04 s\n",
      "Processed 250 samples for  ride\n",
      "CPU times: user 104 ms, sys: 98.8 ms, total: 202 ms\n",
      "Wall time: 8.55 s\n",
      "Processed 998 samples for  crash\n"
     ]
    }
   ],
   "source": [
    "for drumName in drumNames:\n",
    "    files = list(drumSampleSets[drumName])\n",
    "    def job(fn):\n",
    "        return load_sample(fn, sr=sr,\n",
    "                           max_length=max_length, fixed_length=fixed_length)\n",
    "    pool = Pool()\n",
    "    %time results = pool.map(job, files[:limit])\n",
    "    print 'Processed', len(results), 'samples for ', drumName"
   ]
  },
  {
   "cell_type": "code",
   "execution_count": 50,
   "metadata": {},
   "outputs": [
    {
     "name": "stdout",
     "output_type": "stream",
     "text": [
      "CPU times: user 1.8 ms, sys: 58.1 ms, total: 59.9 ms\n",
      "Wall time: 68 ms\n",
      "Saved 723 samples of crash\n"
     ]
    }
   ],
   "source": [
    "for drumName in drumNames:\n",
    "    valid = filter(None, results)\n",
    "    filenames = [x[0] for x in valid]\n",
    "    samples = [x[1] for x in valid]\n",
    "    durations = [x[2] for x in valid]\n",
    "    samples = np.asarray(samples)\n",
    "    np.savetxt(join(data_root, drumName+'_filenames.txt'), filenames, fmt='%s')\n",
    "    np.savetxt(join(data_root, drumName+'_durations.txt'), durations, fmt='%i')\n",
    "    %time np.save(join(data_root, drumName+'_samples.npy'), samples)\n",
    "    print 'Saved', len(valid), 'samples of '+drumName"
   ]
  }
 ],
 "metadata": {
  "kernelspec": {
   "display_name": "Python 2",
   "language": "python",
   "name": "python2"
  },
  "language_info": {
   "codemirror_mode": {
    "name": "ipython",
    "version": 2
   },
   "file_extension": ".py",
   "mimetype": "text/x-python",
   "name": "python",
   "nbconvert_exporter": "python",
   "pygments_lexer": "ipython2",
   "version": "2.7.13"
  }
 },
 "nbformat": 4,
 "nbformat_minor": 1
}
