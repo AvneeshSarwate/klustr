{
 "cells": [
  {
   "cell_type": "markdown",
   "metadata": {},
   "source": [
    "This tool converts a folder of samples to a big rectangular matrix with one mono sample per row.\n",
    "\n",
    "Samples should be placed in `data/mydataset/samples/`. They could be `.mp3`, `.wav`, or anything else that ffmpeg can work with. They may be all in one folder, or in nested sub-folders.\n",
    "\n",
    "Change the path below to point to the root directory, e.g., `data/mydataset/`.\n",
    "\n",
    "The samplerate `sr` is not necessarily the native samplerate of the samples, it's the samplerate you want to load them at.\n",
    "\n",
    "The output of this notebook is:\n",
    "* `data/mydataset/durations.txt`\n",
    "* `data/mydataset/filenames.txt`\n",
    "* `data/mydataset/samples.npy`"
   ]
  },
  {
   "cell_type": "code",
   "execution_count": 17,
   "metadata": {},
   "outputs": [],
   "source": [
    "import os\n",
    "import re\n",
    "import string\n",
    "import numpy as np\n",
    "from os.path import join\n",
    "from utils import *\n",
    "from multiprocessing import Pool\n",
    "\n",
    "\n",
    "sampleRootDirectory = os.path.expanduser(\"~/Desktop/Samples\")\n",
    "drumNames = [\"kick\", \"tom\", \"snare\", \"clap\", \"hi.hat\", \"ride\", \"crash\"]\n",
    "\n",
    "\n",
    "\n",
    "\n",
    "\n",
    "#Collect all of the sample path strings\n",
    "fileNames = []\n",
    "for directory in os.walk(sampleRootDirectory):\n",
    "    for file in directory[2]:\n",
    "        oldPath = directory[0]+\"/\"+file\n",
    "        #shutil.copyfile(oldPath, newPath)\n",
    "        if oldPath[-4:] == '.wav':\n",
    "            fileNames.append(oldPath)\n",
    "\n",
    "        \n",
    "#Create the regex patterns used to filter the samples into drum classes\n",
    "makeRegex = lambda drumStr : '.*'+\"\".join(map(lambda c : '['+c+c.upper()+']' if c.isalpha() else c, drumStr))+'.*'\n",
    "drumRegex = [makeRegex(drum) for drum in drumNames]\n",
    "\n",
    "\n",
    "#filter filenames into sets by matching vs regex\n",
    "drumFileSets = {}\n",
    "for i in range(len(drumNames)):\n",
    "    drumFileSets[drumNames[i]] = {fileName for fileName in fileNames if re.match(drumRegex[i], fileName)}\n",
    "    \n",
    "\n",
    "#check if any samples end up in more than 1 class\n",
    "intersections = []\n",
    "for i in range(len(drumNames)):\n",
    "    for j in range(i+1, len(drumNames)):\n",
    "        d1 = drumNames[i]\n",
    "        d2 = drumNames[j]\n",
    "        intersectionSet = drumFileSets[d1] & drumFileSets[d2]\n",
    "        if len(intersectionSet) > 0:\n",
    "            intersections.append([d1, d2, intersectionSet])\n",
    "            #print d1, d2, len(drumFileSets[d1]), len(drumFileSets[d2]), len(intersectionSet)\n",
    "\n",
    "#note - for some classes, this siginficantly reduces the number of samples\n",
    "for sect in intersections:\n",
    "    d1 = sect[0]\n",
    "    d2 = sect[1]\n",
    "    sectSet = sect[2]\n",
    "    drumFileSets[d1] = drumFileSets[d1] - sectSet\n",
    "    drumFileSets[d2] = drumFileSets[d2] - sectSet"
   ]
  },
  {
   "cell_type": "code",
   "execution_count": 18,
   "metadata": {
    "collapsed": true
   },
   "outputs": [],
   "source": [
    "data_root = 'drumData'\n",
    "sr = 48000\n",
    "max_length = sr*4 # ignore samples longer than 4 seconds\n",
    "fixed_length = sr/4 # trim all samples to 250 milliseconds\n",
    "limit = None # set this to 100 to only load the first 100 samples"
   ]
  },
  {
   "cell_type": "code",
   "execution_count": 19,
   "metadata": {
    "collapsed": true
   },
   "outputs": [],
   "source": [
    "def load_sample(fn, sr=None,\n",
    "                max_length=None, fixed_length=None, normalize=True):\n",
    "    if fn == '': # ignore empty filenames\n",
    "        return None\n",
    "    audio, _ = ffmpeg_load_audio(fn, sr, mono=True)\n",
    "    duration = len(audio)\n",
    "    if duration == 0: # ignore zero-length samples\n",
    "        return None\n",
    "    if max_length and duration >= max_length: # ignore long samples\n",
    "        return None\n",
    "    if fixed_length:\n",
    "        audio.resize(fixed_length)\n",
    "    max_val = np.abs(audio).max()\n",
    "    if max_val == 0: # ignore completely silent sounds\n",
    "        return None\n",
    "    if normalize:\n",
    "        audio /= max_val\n",
    "    return (fn, audio, duration)"
   ]
  },
  {
   "cell_type": "code",
   "execution_count": 20,
   "metadata": {},
   "outputs": [
    {
     "name": "stdout",
     "output_type": "stream",
     "text": [
      "CPU times: user 235 ms, sys: 321 ms, total: 557 ms\n",
      "Wall time: 21.2 s\n",
      "Processed 998 samples for  kick\n",
      "CPU times: user 23 ms, sys: 21 ms, total: 44 ms\n",
      "Wall time: 2.61 s\n",
      "Processed 998 samples for  tom\n",
      "CPU times: user 129 ms, sys: 149 ms, total: 278 ms\n",
      "Wall time: 10.7 s\n",
      "Processed 998 samples for  snare\n",
      "CPU times: user 68.8 ms, sys: 56.6 ms, total: 125 ms\n",
      "Wall time: 5.95 s\n",
      "Processed 998 samples for  clap\n",
      "CPU times: user 11.3 ms, sys: 10.3 ms, total: 21.7 ms\n",
      "Wall time: 814 ms\n",
      "Processed 998 samples for  hi.hat\n",
      "CPU times: user 18.2 ms, sys: 15.6 ms, total: 33.7 ms\n",
      "Wall time: 1.46 s\n",
      "Processed 998 samples for  ride\n",
      "CPU times: user 70.8 ms, sys: 54.5 ms, total: 125 ms\n",
      "Wall time: 6.63 s\n",
      "Processed 998 samples for  crash\n"
     ]
    }
   ],
   "source": [
    "drumSampleSets = {}\n",
    "for drumName in drumNames:\n",
    "    files = list(drumFileSets[drumName])\n",
    "    def job(fn):\n",
    "        return load_sample(fn, sr=sr,\n",
    "                           max_length=max_length, fixed_length=fixed_length)\n",
    "    pool = Pool()\n",
    "    %time drumSampleSets[drumName] = pool.map(job, files[:limit])\n",
    "    print 'Processed', len(results), 'samples for ', drumName"
   ]
  },
  {
   "cell_type": "code",
   "execution_count": 21,
   "metadata": {},
   "outputs": [
    {
     "name": "stdout",
     "output_type": "stream",
     "text": [
      "CPU times: user 15.1 ms, sys: 378 ms, total: 393 ms\n",
      "Wall time: 589 ms\n",
      "Saved 5158 samples of kick\n",
      "CPU times: user 1.9 ms, sys: 35.3 ms, total: 37.2 ms\n",
      "Wall time: 71.1 ms\n",
      "Saved 422 samples of tom\n",
      "CPU times: user 7.01 ms, sys: 150 ms, total: 157 ms\n",
      "Wall time: 194 ms\n",
      "Saved 2546 samples of snare\n",
      "CPU times: user 2.93 ms, sys: 70.7 ms, total: 73.6 ms\n",
      "Wall time: 91.4 ms\n",
      "Saved 1324 samples of clap\n",
      "CPU times: user 493 µs, sys: 7.82 ms, total: 8.31 ms\n",
      "Wall time: 14.5 ms\n",
      "Saved 159 samples of hi.hat\n",
      "CPU times: user 1.94 ms, sys: 13.9 ms, total: 15.8 ms\n",
      "Wall time: 26.9 ms\n",
      "Saved 228 samples of ride\n",
      "CPU times: user 1.61 ms, sys: 40.2 ms, total: 41.8 ms\n",
      "Wall time: 53.5 ms\n",
      "Saved 723 samples of crash\n"
     ]
    }
   ],
   "source": [
    "drumLengths = []\n",
    "\n",
    "for drumName in drumNames:\n",
    "    valid = filter(None, drumSampleSets[drumName])\n",
    "    filenames = [x[0] for x in valid]\n",
    "    samples = [x[1] for x in valid]\n",
    "    durations = [x[2] for x in valid]\n",
    "    samples = np.asarray(samples)\n",
    "    drumLengths.append(len(samples))\n",
    "    np.savetxt(join(data_root, drumName+'_filenames.txt'), filenames, fmt='%s')\n",
    "    np.savetxt(join(data_root, drumName+'_durations.txt'), durations, fmt='%i')\n",
    "    %time np.save(join(data_root, drumName+'_samples.npy'), samples)\n",
    "    print 'Saved', len(valid), 'samples of '+drumName\n",
    "\n",
    "pickle.dump(drumNames, open(data_root+\"/drumNames.pickle\", \"w\"))\n",
    "pickle.dump(drumLengths, open(data_root+\"/drumLengths.pickle\", \"w\"))"
   ]
  }
 ],
 "metadata": {
  "kernelspec": {
   "display_name": "Python 2",
   "language": "python",
   "name": "python2"
  },
  "language_info": {
   "codemirror_mode": {
    "name": "ipython",
    "version": 2
   },
   "file_extension": ".py",
   "mimetype": "text/x-python",
   "name": "python",
   "nbconvert_exporter": "python",
   "pygments_lexer": "ipython2",
   "version": "2.7.13"
  }
 },
 "nbformat": 4,
 "nbformat_minor": 1
}
