{
 "cells": [
  {
   "cell_type": "markdown",
   "metadata": {},
   "source": [
    "This notebook starts with samples listed in `filenames.txt` and assumes there is an equivalently named `.json` file for every sample. It loads all the `.json` files and saves them into a big `.json` file. This is a good format for exporting, and also happens to be faster for loading than `.pkl` in this case."
   ]
  },
  {
   "cell_type": "code",
   "execution_count": null,
   "metadata": {
    "collapsed": true
   },
   "outputs": [],
   "source": [
    "data_root = 'data/drums'"
   ]
  },
  {
   "cell_type": "code",
   "execution_count": null,
   "metadata": {
    "collapsed": false
   },
   "outputs": [],
   "source": [
    "%matplotlib inline\n",
    "from matplotlib import pyplot as plt\n",
    "from os.path import join\n",
    "from utils import list_all_files\n",
    "from multiprocessing import Pool\n",
    "import json"
   ]
  },
  {
   "cell_type": "code",
   "execution_count": null,
   "metadata": {
    "collapsed": false
   },
   "outputs": [],
   "source": [
    "def replace_extension(fn, new_extension):\n",
    "    parts = fn.split('.')\n",
    "    parts[-1] = new_extension\n",
    "    return '.'.join(parts)\n",
    "files = open(join(data_root, 'filenames.txt')).read().splitlines()\n",
    "files = [replace_extension(fn, 'json') for fn in files]\n",
    "len(files)"
   ]
  },
  {
   "cell_type": "code",
   "execution_count": null,
   "metadata": {
    "collapsed": false
   },
   "outputs": [],
   "source": [
    "def job(fn):\n",
    "    with open(fn) as f:\n",
    "        return json.load(f)\n",
    "p = Pool()\n",
    "%time results = p.map(job, files)"
   ]
  },
  {
   "cell_type": "code",
   "execution_count": null,
   "metadata": {
    "collapsed": false
   },
   "outputs": [],
   "source": [
    "with open(join(data_root, 'metadata.json'), 'wb') as f:\n",
    "    json.dump(results, f)"
   ]
  },
  {
   "cell_type": "code",
   "execution_count": null,
   "metadata": {
    "collapsed": false
   },
   "outputs": [],
   "source": [
    "# example of getting the most common tokens from the 'description' field\n",
    "descriptions = '\\n'.join([x['description'] for x in results])\n",
    "from collections import Counter\n",
    "counter = Counter(descriptions.lower().split())\n",
    "counter.most_common()[:20]"
   ]
  },
  {
   "cell_type": "code",
   "execution_count": null,
   "metadata": {
    "collapsed": false
   },
   "outputs": [],
   "source": [
    "# example of plotting a histogram of a numeric field like num_comments, avg_rating, bitrate, num_downloads\n",
    "measure = [x['num_downloads'] for x in results]\n",
    "plt.hist(measure, bins=20)\n",
    "plt.yscale('log')\n",
    "plt.show()"
   ]
  }
 ],
 "metadata": {
  "kernelspec": {
   "display_name": "Python 2",
   "language": "python",
   "name": "python2"
  },
  "language_info": {
   "codemirror_mode": {
    "name": "ipython",
    "version": 2
   },
   "file_extension": ".py",
   "mimetype": "text/x-python",
   "name": "python",
   "nbconvert_exporter": "python",
   "pygments_lexer": "ipython2",
   "version": "2.7.11"
  }
 },
 "nbformat": 4,
 "nbformat_minor": 0
}
