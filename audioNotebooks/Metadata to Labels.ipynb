{
 "cells": [
  {
   "cell_type": "code",
   "execution_count": null,
   "metadata": {
    "collapsed": true
   },
   "outputs": [],
   "source": [
    "data_root = 'data/drums/'"
   ]
  },
  {
   "cell_type": "code",
   "execution_count": null,
   "metadata": {
    "collapsed": true
   },
   "outputs": [],
   "source": [
    "from os.path import join\n",
    "from collections import Counter\n",
    "from sklearn.feature_extraction.text import CountVectorizer\n",
    "import collections\n",
    "import pickle\n",
    "import sklearn\n",
    "import json\n",
    "import re"
   ]
  },
  {
   "cell_type": "code",
   "execution_count": null,
   "metadata": {
    "collapsed": false
   },
   "outputs": [],
   "source": [
    "metadata = json.load(open(join(data_root, 'metadata.json')))"
   ]
  },
  {
   "cell_type": "code",
   "execution_count": null,
   "metadata": {
    "collapsed": false
   },
   "outputs": [],
   "source": [
    "docs = [' '.join([m['name'], m['description']] + m['tags']) for m in metadata]\n",
    "docs = [d.replace('-', '_') for d in docs] # replace dash with underscore"
   ]
  },
  {
   "cell_type": "code",
   "execution_count": null,
   "metadata": {
    "collapsed": false
   },
   "outputs": [],
   "source": [
    "# print the `limit` most common tokens\n",
    "limit = 50\n",
    "vectorizer = CountVectorizer(min_df=10, stop_words='english', binary=True)\n",
    "vectors = vectorizer.fit_transform(docs)\n",
    "freqs = [(vectors.getcol(idx).sum(), word) for word, idx in vectorizer.vocabulary_.items()]\n",
    "for freq, token in sorted(freqs, key=lambda x: -x[0])[:limit]:\n",
    "    print freq, token"
   ]
  },
  {
   "cell_type": "markdown",
   "metadata": {},
   "source": [
    "`synsets.json` should be a list of synsets, where each synset is a list of synonyms. A synonym should not contain characters like spaces that a tokenizer would split into two tokens. An example:\n",
    "\n",
    "```json\n",
    "[\n",
    " [\"bass\"],\n",
    " [\"kick\", \"kickdrum\", \"kicks\"],\n",
    " [\"hat\", \"hihat\", \"hi_hat\"],\n",
    " [\"snare\", \"snares\"]\n",
    "]\n",
    "```"
   ]
  },
  {
   "cell_type": "code",
   "execution_count": null,
   "metadata": {
    "collapsed": true
   },
   "outputs": [],
   "source": [
    "# vectorize only using words in the synsets\n",
    "synsets = json.load(open(join(data_root, 'synsets.json')))\n",
    "vocabulary = [item for sublist in synsets for item in sublist]\n",
    "vectorizer = CountVectorizer(min_df=1, stop_words='english', binary=True, vocabulary=vocabulary)\n",
    "vectors = vectorizer.fit_transform(docs)"
   ]
  },
  {
   "cell_type": "code",
   "execution_count": null,
   "metadata": {
    "collapsed": false
   },
   "outputs": [],
   "source": [
    "# map vocabulary indices to synset indices\n",
    "vocabulary_to_synset = [i for i, synset in enumerate(synsets) for syn in synset]\n",
    "# fill out mapping from samples to labels and from labels to samples\n",
    "samples_to_labels = [set() for m in metadata]\n",
    "labels_to_samples = [set() for s in synsets]\n",
    "for i, vector in enumerate(vectors):\n",
    "    nonzero = vector.nonzero()[1]\n",
    "    labels = [vocabulary_to_synset[j] for j in nonzero]\n",
    "    samples_to_labels[i].update(labels)\n",
    "    for label in labels:\n",
    "        labels_to_samples[label].add(i)\n",
    "# convert from list of sets to list of lists\n",
    "samples_to_labels = [list(labels) for labels in samples_to_labels]\n",
    "labels_to_samples = [list(samples) for samples in labels_to_samples]"
   ]
  },
  {
   "cell_type": "code",
   "execution_count": null,
   "metadata": {
    "collapsed": false
   },
   "outputs": [],
   "source": [
    "with open(join(data_root, 'labels_to_samples.pkl'), 'wb') as f:\n",
    "    pickle.dump(labels_to_samples, f)\n",
    "with open(join(data_root, 'samples_to_labels.pkl'), 'wb') as f:\n",
    "    pickle.dump(samples_to_labels, f)"
   ]
  }
 ],
 "metadata": {
  "kernelspec": {
   "display_name": "Python 2",
   "language": "python",
   "name": "python2"
  },
  "language_info": {
   "codemirror_mode": {
    "name": "ipython",
    "version": 2
   },
   "file_extension": ".py",
   "mimetype": "text/x-python",
   "name": "python",
   "nbconvert_exporter": "python",
   "pygments_lexer": "ipython2",
   "version": "2.7.11"
  }
 },
 "nbformat": 4,
 "nbformat_minor": 0
}
