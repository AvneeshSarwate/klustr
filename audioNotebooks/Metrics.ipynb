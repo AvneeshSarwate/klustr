{
 "cells": [
  {
   "cell_type": "code",
   "execution_count": 1,
   "metadata": {},
   "outputs": [
    {
     "name": "stdout",
     "output_type": "stream",
     "text": [
      "2.5\n"
     ]
    },
    {
     "data": {
      "text/plain": [
       "1.4142135623730951"
      ]
     },
     "execution_count": 1,
     "metadata": {},
     "output_type": "execute_result"
    }
   ],
   "source": [
    "import numpy as np\n",
    "from scipy.spatial import ConvexHull\n",
    "from shapely.geometry import Polygon, MultiPolygon, Point\n",
    "\n",
    "d1 = np.array([[0,0], [0,1],  [1,0], [1,1]])\n",
    "d2 = d1 + 0.5\n",
    "d3 = d2 + 0.5\n",
    "h1 = ConvexHull(d1)\n",
    "h2 = ConvexHull(d2)\n",
    "h3 = ConvexHull(d3)\n",
    "v1 = [d1[v] for v in h1.vertices]\n",
    "v2 = [d2[v] for v in h2.vertices]\n",
    "v3 = [d3[v] for v in h3.vertices]\n",
    "s1 = Polygon(v1)\n",
    "s2 = Polygon(v2)\n",
    "s3 = Polygon(v3)\n",
    "polygons = [s1, s2, s3]\n",
    "print reduce(lambda a,b: a.union(b), polygons[1:], polygons[0]).area\n",
    "p = [Point(c) for c in s1.exterior.coords]\n",
    "max([p1.distance(p2) for p1 in p for p2 in p])"
   ]
  },
  {
   "cell_type": "code",
   "execution_count": 10,
   "metadata": {
    "collapsed": true
   },
   "outputs": [],
   "source": [
    "def clusterGeometryMetrics(drum_points, labels):\n",
    "    \n",
    "    grouped_drum_points = {}\n",
    "    \n",
    "    for i in range(len(drum_points)):\n",
    "        if labels[i] not in grouped_drum_points:\n",
    "            grouped_drum_points[labels[i]] = list()\n",
    "        grouped_drum_points[labels[i]].append(drum_points[i])\n",
    "    \n",
    "    num_labels = len(grouped_drum_points)\n",
    "    drum_polygons = {}\n",
    "    \n",
    "    for drum in grouped_drum_points:\n",
    "        points = grouped_drum_points[drum]\n",
    "        hull = ConvexHull(grouped_drum_points[drum])\n",
    "        drum_polygons[drum] = Polygon([points[v] for v in hull.vertices])\n",
    "    \n",
    "    total_hull = ConvexHull(drum_points)\n",
    "    total_polygon = Polygon([drum_points[v] for v in total_hull.vertices])\n",
    "    p = [Point(c) for c in total_polygon.exterior.coords]\n",
    "    total_diameter = max([p1.distance(p2) for p1 in p for p2 in p])\n",
    "    \n",
    "    calc_intersect = lambda i, j: drum_polygons[i].intersection(drum_polygons[j]).area / total_polygon.area\n",
    "    calc_roundness = lambda poly : 4 * np.pi * poly.area / (poly.length**2)\n",
    "    calc_distance = lambda i, j: drum_polygons[i].distance(drum_polygons[j]) / total_diameter\n",
    "    \n",
    "    #overlap areas between the polygons of the different clusters, normalized by area of total plot polygon\n",
    "    pairwise_intersect_areas = [[calc_intersect(i,j) for i in range(num_labels)] for j in range(num_labels)]\n",
    "    \n",
    "    \n",
    "    # Distance between nearest points of 2 polygons normalized by \"diameter\" of total plot polygon\n",
    "    pairwise_distances = [[calc_distance(i,j) for i in range(num_labels)] for j in range(num_labels)]\n",
    "    \n",
    "    #measure of \"roundness\" of each polygon based on Polsby-Popper Test\n",
    "    roundness = [calc_roundness(drum_polygons[d]) for d in drum_polygons]\n",
    "    \n",
    "    #relative sizes of each cluster polygon normalized by area of total plot polygon\n",
    "    relative_areas = [drum_polygons[d].area / total_polygon.area for d in drum_polygons]\n",
    "    \n",
    "    #the polygons themselves for further processing \n",
    "    print type(drum_polygons.values())\n",
    "    polygons = drum_polygons.values() + [total_polygon]\n",
    "    \n",
    "    #the area of the union of all cluser polygons over the area of the total plot\n",
    "    overlap_ratio = reduce(lambda a,b: a.union(b), polygons[1:], polygons[0]).area / sum([p.area for p in polygons])\n",
    "    \n",
    "    returnVal = {}\n",
    "    returnVal['pairwise_intersect_areas'] = pairwise_intersect_areas\n",
    "    returnVal['roundness'] = roundness\n",
    "    returnVal['relative_areas'] = relative_areas\n",
    "    returnVal['overlap_ratio'] = overlap_ratio\n",
    "    returnVal['polygons'] = polygons\n",
    "    returnVal['pairwise_distances'] = pairwise_distances\n",
    "    return returnVal\n",
    "    "
   ]
  },
  {
   "cell_type": "code",
   "execution_count": 14,
   "metadata": {},
   "outputs": [
    {
     "name": "stdout",
     "output_type": "stream",
     "text": [
      "<type 'list'>\n",
      "[[0.33541703279490875, 0.08374817918763068, 0.0], [0.08374817918763068, 0.33541703279490875, 0.08374817918763067], [0.0, 0.08374817918763068, 0.33541703279490875]]\n"
     ]
    }
   ],
   "source": [
    "import random\n",
    "r = random.random\n",
    "l = 20000\n",
    "d1 = np.array([[r(), r()] for i in range(l)])\n",
    "d2 = d1 + 0.5\n",
    "d3 = d2 + 0.5\n",
    "drums = np.concatenate([d1, d2, d3])\n",
    "labels = [0]*l + [1]*l + [2]*l\n",
    "\n",
    "analysis = clusterGeometryMetrics(drums, labels)\n",
    "print analysis['pairwise_intersect_areas']\n"
   ]
  },
  {
   "cell_type": "code",
   "execution_count": null,
   "metadata": {
    "collapsed": true
   },
   "outputs": [],
   "source": []
  }
 ],
 "metadata": {
  "kernelspec": {
   "display_name": "Python 2",
   "language": "python",
   "name": "python2"
  },
  "language_info": {
   "codemirror_mode": {
    "name": "ipython",
    "version": 2
   },
   "file_extension": ".py",
   "mimetype": "text/x-python",
   "name": "python",
   "nbconvert_exporter": "python",
   "pygments_lexer": "ipython2",
   "version": "2.7.13"
  }
 },
 "nbformat": 4,
 "nbformat_minor": 2
}
