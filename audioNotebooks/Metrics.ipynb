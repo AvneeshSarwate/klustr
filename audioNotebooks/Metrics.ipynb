{
 "cells": [
  {
   "cell_type": "code",
   "execution_count": 39,
   "metadata": {},
   "outputs": [
    {
     "name": "stdout",
     "output_type": "stream",
     "text": [
      "2.5\n"
     ]
    }
   ],
   "source": [
    "import numpy as np\n",
    "from scipy.spatial import ConvexHull\n",
    "from shapely.geometry import Polygon, MultiPolygon\n",
    "\n",
    "d1 = np.array([[0,0], [0,1],  [1,0], [1,1]])\n",
    "d2 = d1 + 0.5\n",
    "d3 = d2 + 0.5\n",
    "h1 = ConvexHull(d1)\n",
    "h2 = ConvexHull(d2)\n",
    "h3 = ConvexHull(d3)\n",
    "v1 = [d1[v] for v in h1.vertices]\n",
    "v2 = [d2[v] for v in h2.vertices]\n",
    "v3 = [d3[v] for v in h3.vertices]\n",
    "s1 = Polygon(v1)\n",
    "s2 = Polygon(v2)\n",
    "s3 = Polygon(v3)\n",
    "polygons = [s1, s2, s3]\n",
    "print reduce(lambda a,b: a.union(b), polygons[1:], polygons[0]).area"
   ]
  },
  {
   "cell_type": "code",
   "execution_count": null,
   "metadata": {
    "collapsed": true
   },
   "outputs": [],
   "source": [
    "def clusterGeometryMetrics(drum_points, labels):\n",
    "    \n",
    "    grouped_drum_points = {}\n",
    "    \n",
    "    for i in range(len(drum_points)):\n",
    "        if lables[i] not in grouped_drum_points:\n",
    "            group_drum_points[labels[i]] = set()\n",
    "        group_drum_points[labels[i]].add(drum_points[i])\n",
    "    \n",
    "    num_labels = len(grouped_drum_points)\n",
    "    drum_polygons = {}\n",
    "    \n",
    "    for drum in grouped_drum_points:\n",
    "        points = grouped_drum_points[drum]\n",
    "        hull = ConvexHull(grouped_drum_points[drum])\n",
    "        drum_polygons[drum] = Polygon([points[v] for v in hull.vertices])\n",
    "    \n",
    "    total_hull = ConvexHull(drum_points)\n",
    "    total_polygon = Polygon([drum_points[v] for v in total_hull.vertices])\n",
    "    \n",
    "    intersect = lambda i, j: drum_polygons[i].intersection(drum_polygons[j]).area / total_polygon.area\n",
    "    \n",
    "    pairwise_intersect_area = [[intersect(i,j) for i in range(num_lables)] for j in range(num_labels)]\n",
    "    roundness = [4 * np.pi * drum_polygons[d].area / (drum_polygons[d].length**2) for d in drum_polygons]\n",
    "    relative_area = [drum_polygons[d].area / total_polygon.area for d in drum_polygons]\n",
    "    \n",
    "    polygons = drum_polygons.values\n",
    "    overlap_ratio = reduce(lambda a,b: a.union(b), polygons[1:], polygons[0]).area / sum([p.area for p in polygons])"
   ]
  },
  {
   "cell_type": "code",
   "execution_count": 32,
   "metadata": {},
   "outputs": [
    {
     "data": {
      "text/plain": [
       "6"
      ]
     },
     "execution_count": 32,
     "metadata": {},
     "output_type": "execute_result"
    }
   ],
   "source": [
    "sum(sum(np.array([[1, 2], [1, 2]])))"
   ]
  }
 ],
 "metadata": {
  "kernelspec": {
   "display_name": "Python 2",
   "language": "python",
   "name": "python2"
  },
  "language_info": {
   "codemirror_mode": {
    "name": "ipython",
    "version": 2
   },
   "file_extension": ".py",
   "mimetype": "text/x-python",
   "name": "python",
   "nbconvert_exporter": "python",
   "pygments_lexer": "ipython2",
   "version": "2.7.13"
  }
 },
 "nbformat": 4,
 "nbformat_minor": 2
}
