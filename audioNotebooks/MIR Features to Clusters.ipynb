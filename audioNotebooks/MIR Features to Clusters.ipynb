{
 "cells": [
  {
   "cell_type": "code",
   "execution_count": 1,
   "metadata": {
    "collapsed": true
   },
   "outputs": [],
   "source": [
    "%matplotlib inline\n",
    "from utils import *\n",
    "from tqdm import *\n",
    "from os.path import join\n",
    "from matplotlib import pyplot as plt\n",
    "from skimage.measure import block_reduce\n",
    "from multiprocessing import Pool\n",
    "import numpy as np\n",
    "import librosa\n",
    "from tqdm import tqdm"
   ]
  },
  {
   "cell_type": "code",
   "execution_count": 2,
   "metadata": {
    "collapsed": true
   },
   "outputs": [],
   "source": [
    "data_root = 'drumData'\n",
    "n_fft = 1024\n",
    "hop_length = n_fft/4\n",
    "use_logamp = False # boost the brightness of quiet sounds\n",
    "reduce_rows = 10 # how many frequency bands to average into one\n",
    "reduce_cols = 1 # how many time steps to average into one\n",
    "crop_rows = 32 # limit how many frequency bands to use\n",
    "crop_cols = 32 # limit how many time steps to use\n",
    "limit = None # set this to 100 to only process 100 samples"
   ]
  },
  {
   "cell_type": "code",
   "execution_count": 3,
   "metadata": {},
   "outputs": [
    {
     "name": "stdout",
     "output_type": "stream",
     "text": [
      "CPU times: user 1.23 ms, sys: 202 ms, total: 204 ms\n",
      "Wall time: 485 ms\n",
      "CPU times: user 816 µs, sys: 14.9 ms, total: 15.7 ms\n",
      "Wall time: 41.4 ms\n",
      "CPU times: user 1.35 ms, sys: 97.1 ms, total: 98.5 ms\n",
      "Wall time: 238 ms\n",
      "CPU times: user 570 µs, sys: 46.5 ms, total: 47.1 ms\n",
      "Wall time: 125 ms\n",
      "CPU times: user 490 µs, sys: 5.8 ms, total: 6.29 ms\n",
      "Wall time: 16.5 ms\n",
      "CPU times: user 486 µs, sys: 8.67 ms, total: 9.16 ms\n",
      "Wall time: 23 ms\n",
      "CPU times: user 1.26 ms, sys: 28.1 ms, total: 29.4 ms\n",
      "Wall time: 69.4 ms\n"
     ]
    }
   ],
   "source": [
    "drumNames = [\"kick\", \"tom\", \"snare\", \"clap\", \"hi.hat\", \"ride\", \"crash\"]\n",
    "drumFingerPrints = {}\n",
    "drumSamples = {}\n",
    "for d in drumNames:\n",
    "    %time drumSamples[d] = np.load(join(data_root, d+'_samples.npy'))"
   ]
  },
  {
   "cell_type": "code",
   "execution_count": 11,
   "metadata": {},
   "outputs": [
    {
     "name": "stdout",
     "output_type": "stream",
     "text": [
      "(723, 6, 24)\n",
      "(6, 24)\n"
     ]
    }
   ],
   "source": [
    "'''\n",
    "drum_features is a dictionary containing the drum type and \n",
    "the np.array of features. \n",
    "'''\n",
    "drums_and_features = {} \n",
    "for drumName in drumNames: \n",
    "    file_path = './drumData/' + drumName + '_MIRfeatures.npy'\n",
    "    drums_and_features[drumName] = np.load(file_path)\n",
    "crash = drums_and_features['crash']\n",
    "print(crash.shape)\n",
    "print(crash[0].shape)"
   ]
  },
  {
   "cell_type": "code",
   "execution_count": 15,
   "metadata": {},
   "outputs": [
    {
     "name": "stdout",
     "output_type": "stream",
     "text": [
      "(7,)\n"
     ]
    }
   ],
   "source": [
    "drum_features = "
   ]
  },
  {
   "cell_type": "code",
   "execution_count": null,
   "metadata": {
    "collapsed": true
   },
   "outputs": [],
   "source": []
  }
 ],
 "metadata": {
  "kernelspec": {
   "display_name": "Python 2",
   "language": "python",
   "name": "python2"
  },
  "language_info": {
   "codemirror_mode": {
    "name": "ipython",
    "version": 2
   },
   "file_extension": ".py",
   "mimetype": "text/x-python",
   "name": "python",
   "nbconvert_exporter": "python",
   "pygments_lexer": "ipython2",
   "version": "2.7.13"
  }
 },
 "nbformat": 4,
 "nbformat_minor": 2
}
