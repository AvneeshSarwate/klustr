{
 "cells": [
  {
   "cell_type": "markdown",
   "metadata": {},
   "source": [
    "Convert all the samples in `samples/` to a single continuous stream of audio with a given samplerate and `uint8` datatype."
   ]
  },
  {
   "cell_type": "code",
   "execution_count": null,
   "metadata": {
    "collapsed": true
   },
   "outputs": [],
   "source": [
    "data_root = 'data/blizzard'\n",
    "sr = 16000\n",
    "limit = None"
   ]
  },
  {
   "cell_type": "code",
   "execution_count": null,
   "metadata": {
    "collapsed": true
   },
   "outputs": [],
   "source": [
    "from utils import list_all_files, ffmpeg_load_audio\n",
    "from os.path import join\n",
    "from tqdm import tqdm\n",
    "import numpy as np\n",
    "import h5py"
   ]
  },
  {
   "cell_type": "code",
   "execution_count": null,
   "metadata": {
    "collapsed": false
   },
   "outputs": [],
   "source": [
    "f = h5py.File(join(data_root, 'samples-flat.hdf5'), 'w', libver='latest')\n",
    "dataset = f.create_dataset('samples', (0,),  maxshape=(None,), dtype='uint8')"
   ]
  },
  {
   "cell_type": "code",
   "execution_count": null,
   "metadata": {
    "collapsed": false,
    "scrolled": false
   },
   "outputs": [],
   "source": [
    "%matplotlib inline\n",
    "from matplotlib import pyplot as plt\n",
    "fns = list(list_all_files(join(data_root, 'samples'), ['.wav', '.mp3']))\n",
    "for fn in tqdm(fns[:limit], leave=True):\n",
    "    y, _ = ffmpeg_load_audio(fn, sr=sr, normalize=False, mono=True, out_type='int8') \n",
    "    y = y.view('uint8')\n",
    "    y += 128\n",
    "    cur_len = dataset.shape[0]\n",
    "    extra_len = y.shape[0]\n",
    "    dataset.resize(cur_len+extra_len, axis=0)\n",
    "    dataset[cur_len:cur_len+extra_len] = y\n",
    "f.close()"
   ]
  }
 ],
 "metadata": {
  "kernelspec": {
   "display_name": "Python 2",
   "language": "python",
   "name": "python2"
  },
  "language_info": {
   "codemirror_mode": {
    "name": "ipython",
    "version": 2
   },
   "file_extension": ".py",
   "mimetype": "text/x-python",
   "name": "python",
   "nbconvert_exporter": "python",
   "pygments_lexer": "ipython2",
   "version": "2.7.11"
  }
 },
 "nbformat": 4,
 "nbformat_minor": 0
}
