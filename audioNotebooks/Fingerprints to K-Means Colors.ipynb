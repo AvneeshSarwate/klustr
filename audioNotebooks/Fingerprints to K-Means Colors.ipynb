{
 "cells": [
  {
   "cell_type": "markdown",
   "metadata": {},
   "source": [
    "This converts `fingerprints.npy` to `.tsv` formatted list of colors based on k-means clustering in the high dimensional space."
   ]
  },
  {
   "cell_type": "code",
   "execution_count": null,
   "metadata": {
    "collapsed": true
   },
   "outputs": [],
   "source": [
    "data_root = 'data/drums'\n",
    "tsne_type = 'fingerprints.256.64'\n",
    "n_clusters = 128"
   ]
  },
  {
   "cell_type": "code",
   "execution_count": null,
   "metadata": {
    "collapsed": true
   },
   "outputs": [],
   "source": [
    "%matplotlib inline\n",
    "from matplotlib import pyplot as plt\n",
    "from utils import *\n",
    "from sklearn.cluster import MiniBatchKMeans\n",
    "from os.path import join\n",
    "import numpy as np"
   ]
  },
  {
   "cell_type": "code",
   "execution_count": null,
   "metadata": {
    "collapsed": false
   },
   "outputs": [],
   "source": [
    "def load_tsv(fn):\n",
    "    return np.genfromtxt(fn)\n",
    "def save_tsv(data, fn):\n",
    "    np.savetxt(fn, data, fmt='%.5f', delimiter='\\t')"
   ]
  },
  {
   "cell_type": "code",
   "execution_count": null,
   "metadata": {
    "collapsed": true
   },
   "outputs": [],
   "source": [
    "tsne2d = load_tsv(join(data_root, 'tsne/{}.2d.tsv'.format(tsne_type)))\n",
    "tsne3d = load_tsv(join(data_root, 'tsne/{}.3d.tsv'.format(tsne_type)))"
   ]
  },
  {
   "cell_type": "code",
   "execution_count": null,
   "metadata": {
    "collapsed": false,
    "scrolled": false
   },
   "outputs": [],
   "source": [
    "# before\n",
    "plt.figure(figsize=(16,16))\n",
    "plt.scatter(tsne2d[:,0], tsne2d[:,1], edgecolor='', s=2, c=tsne3d)\n",
    "plt.show()"
   ]
  },
  {
   "cell_type": "code",
   "execution_count": null,
   "metadata": {
    "collapsed": true
   },
   "outputs": [],
   "source": [
    "fingerprints = np.load(join(data_root, 'fingerprints.npy'))\n",
    "fingerprints = fingerprints.reshape(len(fingerprints), -1)"
   ]
  },
  {
   "cell_type": "code",
   "execution_count": null,
   "metadata": {
    "collapsed": false
   },
   "outputs": [],
   "source": [
    "import warnings\n",
    "warnings.filterwarnings('ignore', category=DeprecationWarning) \n",
    "kmeans = MiniBatchKMeans(n_clusters=n_clusters)\n",
    "kmeans.fit(fingerprints)"
   ]
  },
  {
   "cell_type": "code",
   "execution_count": null,
   "metadata": {
    "collapsed": false
   },
   "outputs": [],
   "source": [
    "clusters = kmeans.predict(fingerprints) # this is the approach from the largevis paper\n",
    "# clusters = fingerprints.argmax(axis=1) # this is another approach\n",
    "save_tsv(plt.cm.rainbow(clusters)[:,:3], join(data_root, 'colors.tsv'))"
   ]
  },
  {
   "cell_type": "code",
   "execution_count": null,
   "metadata": {
    "collapsed": false
   },
   "outputs": [],
   "source": [
    "# after\n",
    "plt.figure(figsize=(16,16))\n",
    "plt.scatter(tsne2d[:,0], tsne2d[:,1], edgecolor='', s=2, c=clusters, cmap='hsv')\n",
    "plt.show()"
   ]
  }
 ],
 "metadata": {
  "kernelspec": {
   "display_name": "Python 2",
   "language": "python",
   "name": "python2"
  },
  "language_info": {
   "codemirror_mode": {
    "name": "ipython",
    "version": 2
   },
   "file_extension": ".py",
   "mimetype": "text/x-python",
   "name": "python",
   "nbconvert_exporter": "python",
   "pygments_lexer": "ipython2",
   "version": "2.7.11"
  }
 },
 "nbformat": 4,
 "nbformat_minor": 0
}
