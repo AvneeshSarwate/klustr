{
 "cells": [
  {
   "cell_type": "markdown",
   "metadata": {},
   "source": [
    "This notebook takes a file `data/project/raw/audio.wav` and `data/project/raw/align.json` (output from [Gentle](https://lowerquality.com/gentle/)) and outputs one `data/project/samples/*.wav` per phoneme and/or `data/project/samples.npy` with all phonemes. Note that the `samples.npy` output by this script is not rectangular if `width = None`."
   ]
  },
  {
   "cell_type": "code",
   "execution_count": null,
   "metadata": {
    "collapsed": true
   },
   "outputs": [],
   "source": [
    "data_root = 'data/speech/'\n",
    "save_wav = False # output data_root/samples/*.wav\n",
    "save_samples = True # output data_root/samples.npy\n",
    "width = None # 0.080 # window size in milliseconds, this will create a rectangular sample matrix\n",
    "use_center = False # when using a fixed width, center the window on the chunk\n",
    "limit = None # only analyze the first `limit` phonemes"
   ]
  },
  {
   "cell_type": "code",
   "execution_count": null,
   "metadata": {
    "collapsed": true
   },
   "outputs": [],
   "source": [
    "%matplotlib inline\n",
    "from matplotlib import pyplot as plt\n",
    "from os.path import join\n",
    "from tqdm import tqdm\n",
    "from utils import *\n",
    "import numpy as np\n",
    "import json\n",
    "import librosa"
   ]
  },
  {
   "cell_type": "code",
   "execution_count": null,
   "metadata": {
    "collapsed": false
   },
   "outputs": [],
   "source": [
    "align = json.load(open(join(data_root, 'raw/align.json')))\n",
    "words = align['words']"
   ]
  },
  {
   "cell_type": "code",
   "execution_count": null,
   "metadata": {
    "collapsed": false
   },
   "outputs": [],
   "source": [
    "y, sr = ffmpeg_load_audio(data_root + 'raw/audio.wav', mono=True)\n",
    "print y.shape"
   ]
  },
  {
   "cell_type": "code",
   "execution_count": null,
   "metadata": {
    "collapsed": false
   },
   "outputs": [],
   "source": [
    "# this could benefit from being rewritten for multiple threads\n",
    "i = 0\n",
    "if width is not None:\n",
    "    width_sample = librosa.time_to_samples(width, sr=sr)[0]\n",
    "filenames = []\n",
    "samples = []\n",
    "mkdir_p(join(data_root, 'samples'))\n",
    "for word in tqdm(words[:limit], leave=True):\n",
    "    if 'start' in word:\n",
    "        start = word['start']\n",
    "        for phone in word['phones']:\n",
    "            end = start + phone['duration']\n",
    "            start_sample, end_sample = librosa.time_to_samples([start, end], sr=sr)\n",
    "            if use_center:\n",
    "                center = (start + end) / 2.\n",
    "                start_sample = librosa.time_to_samples([center - width/2], sr=sr)[0]\n",
    "            if width is not None:\n",
    "                end_sample = start_sample + width_sample\n",
    "            if start_sample > 0 and end_sample < len(y) and end_sample - start_sample > 0:\n",
    "                cur = y[start_sample:end_sample]\n",
    "                if save_wav:\n",
    "                    fn = join(data_root, 'samples/{}_{}.wav'.format(i, phone['phone']))\n",
    "                    ffmpeg_save_audio(fn, cur, sr=sr)\n",
    "                    filenames.append(fn)\n",
    "                if save_samples:\n",
    "                    samples.append(cur)\n",
    "                i = i + 1\n",
    "            start = end\n",
    "samples = np.asarray(samples)\n",
    "\n",
    "if save_samples:\n",
    "    np.save(join(data_root, 'samples.npy'), samples)\n",
    "if save_wav:\n",
    "    np.savetxt(join(data_root, 'filenames.txt'), filenames, fmt='%s')"
   ]
  }
 ],
 "metadata": {
  "kernelspec": {
   "display_name": "Python 2",
   "language": "python",
   "name": "python2"
  },
  "language_info": {
   "codemirror_mode": {
    "name": "ipython",
    "version": 2
   },
   "file_extension": ".py",
   "mimetype": "text/x-python",
   "name": "python",
   "nbconvert_exporter": "python",
   "pygments_lexer": "ipython2",
   "version": "2.7.11"
  }
 },
 "nbformat": 4,
 "nbformat_minor": 0
}
