{
 "cells": [
  {
   "cell_type": "markdown",
   "metadata": {},
   "source": [
    "This converts `fingerprints.npy` to `.tsv` formatted t-SNE embeddings and plots of those embeddings in the `tsne/` and `plot/` folders respectively. If you add multiple values to `perplexity` and `initial_dims` then all combinations will be computed (in parallel). Good perplexities are in the range 1-200 with the best range around 30-100. Good `initial_dims` are in the range 30 and higher, with the dimensionality of your input data being the highest possible value (e.g., a 32x32 fingerprint would have a highest possible `initial_dims` value of 32x32=1024).\n",
    "\n",
    "Change the \"mode\" to try different t-SNE variations.\n",
    "* \"fingerprints\" will only use `fingerprints.npy`\n",
    "* \"predicted_labels\" will only use `predicted_labels.npy`\n",
    "* \"predicted_encoding\" will only use `predicted_encoding.npy`\n",
    "* \"combined\" will use all of the above data"
   ]
  },
  {
   "cell_type": "code",
   "execution_count": 1,
   "metadata": {
    "collapsed": true
   },
   "outputs": [],
   "source": [
    "data_root = 'drumData/'\n",
    "initial_dims = [30]\n",
    "perplexities = [30]\n",
    "mode = 'fingerprints'\n",
    "drumNames = [\"kick\", \"tom\", \"snare\", \"clap\", \"hi.hat\", \"ride\", \"crash\"] \n",
    "drumLengths = [] #number of items in ith class\n",
    "colors = ['#000000', '#ff0000', '#00ff00', '#0000ff', '#ffff00', '#ff00ff', '#00ffff']\n",
    "# mode = 'predicted_labels'\n",
    "# mode = 'predicted_encoding'\n",
    "# mode = 'combined'"
   ]
  },
  {
   "cell_type": "code",
   "execution_count": 40,
   "metadata": {
    "collapsed": true
   },
   "outputs": [],
   "source": [
    "%matplotlib inline\n",
    "from matplotlib import pyplot as plt\n",
    "from time import time\n",
    "from utils import *\n",
    "from os.path import join\n",
    "from multiprocessing import Pool\n",
    "import numpy as np\n",
    "import itertools\n",
    "import time as timeMod\n",
    "from time import mktime\n",
    "from datetime import datetime\n",
    "import scipy.spatial"
   ]
  },
  {
   "cell_type": "code",
   "execution_count": 3,
   "metadata": {
    "collapsed": true
   },
   "outputs": [],
   "source": [
    "X_2d_inspect = None\n",
    "\n",
    "def save_tsv(data, fn):\n",
    "    np.savetxt(fn, data, fmt='%.5f', delimiter='\\t')\n",
    "def tsne(data, data_root, prefix, colorMap, initial_dims=30, perplexity=30):\n",
    "    mkdir_p(data_root + 'tsne')\n",
    "    mkdir_p(data_root + 'plot')\n",
    "    \n",
    "    figsize = (16,16)\n",
    "    pointsize = 30\n",
    "    \n",
    "    struct = timeMod.localtime(time())\n",
    "    dt = datetime.fromtimestamp(mktime(struct))\n",
    "\n",
    "    X_2d = list(bh_tsne(data, initial_dims=initial_dims, perplexity=perplexity, no_dims=2))\n",
    "    X_2d = normalize(np.array(X_2d))\n",
    "    save_tsv(X_2d, join(data_root, 'tsne/{}.{}.{}.2d - {}.tsv'.format(prefix, initial_dims, perplexity, dt)))\n",
    "    \n",
    "    X_2d_inspect = X_2d\n",
    "    \n",
    "    plt.figure(figsize=figsize)\n",
    "    plt.scatter(X_2d[:,0], X_2d[:,1], c=colorMap, s=pointsize)\n",
    "    plt.tight_layout()\n",
    "    plt.savefig(join(data_root, 'plot/{}.{}.{}_2D - {}.png'.format(prefix, initial_dims, perplexity, dt)))\n",
    "    plt.close()\n",
    "    \n",
    "    return X_2d\n",
    "#     X_3d = list(bh_tsne(data, initial_dims=initial_dims, perplexity=perplexity, no_dims=3))\n",
    "#     X_3d = normalize(np.array(X_3d))\n",
    "#     save_tsv(X_3d, join(data_root, 'tsne/{}.{}.{}.3d.tsv'.format(prefix, initial_dims, perplexity)))\n",
    "    \n",
    "#     plt.figure(figsize=figsize)\n",
    "#     plt.scatter(X_2d[:,0], X_2d[:,1], edgecolor='', s=pointsize, c=X_3d)\n",
    "#     plt.tight_layout()\n",
    "#     plt.savefig(join(data_root, 'plot/{}.{}.{}_3D.png'.format(prefix, initial_dims, perplexity)))\n",
    "#     plt.close()\n",
    "    \n",
    "def concatColors(segmentList, colorList):\n",
    "    multiples = []\n",
    "    print segmentList, colorList\n",
    "    for i in range(len(segmentList)):\n",
    "        multiples.append([colorList[i]]*segmentList[i])\n",
    "    return list(itertools.chain(*multiples))"
   ]
  },
  {
   "cell_type": "code",
   "execution_count": 4,
   "metadata": {},
   "outputs": [
    {
     "name": "stdout",
     "output_type": "stream",
     "text": [
      "kick (5158, 32, 32)\n",
      "tom (422, 32, 32)\n",
      "snare (2546, 32, 32)\n",
      "clap (1324, 32, 32)\n",
      "hi.hat (159, 32, 32)\n",
      "ride (228, 32, 32)\n",
      "crash (723, 32, 32)\n",
      "[5158, 422, 2546, 1324, 159, 228, 723] ['#000000', '#ff0000', '#00ff00', '#0000ff', '#ffff00', '#ff00ff', '#00ffff']\n",
      "(10560, 1024)\n"
     ]
    }
   ],
   "source": [
    "# load and normalize any dataset we need\n",
    "if mode == 'fingerprints' or mode == 'combined':\n",
    "    drumPrints = []\n",
    "    for drum in drumNames:\n",
    "        drumPrints.append(np.load(join(data_root, drum+'_fingerprints.npy')))\n",
    "        print drum, drumPrints[-1].shape\n",
    "    drumLengths = [drumPrint.shape[0] for drumPrint in drumPrints]\n",
    "    colorMap = concatColors(drumLengths, colors)\n",
    "    fingerprints = np.vstack(drumPrints)\n",
    "    fingerprints = fingerprints.reshape(len(fingerprints), -1)\n",
    "if mode == 'predicted_labels' or mode == 'combined':\n",
    "    predicted_labels = np.load(join(data_root, 'predicted_labels.npy'))\n",
    "    predicted_labels -= predicted_labels.min()\n",
    "    predicted_labels /= predicted_labels.max()\n",
    "if mode == 'predicted_encoding' or mode == 'combined':\n",
    "    predicted_encoding = np.load(join(data_root, 'predicted_encoding.npy'))\n",
    "    std = predicted_encoding.std(axis=0)\n",
    "    predicted_encoding = predicted_encoding[:, std > 0] / std[std > 0]\n",
    "    \n",
    "if mode == 'fingerprints':\n",
    "    data = fingerprints\n",
    "if mode == 'predicted_labels':\n",
    "    data = predicted_labels\n",
    "if mode == 'predicted_encoding':\n",
    "    data = predicted_encoding\n",
    "if mode == 'combined':\n",
    "    data = np.hstack((fingerprints, predicted_labels, predicted_encoding))\n",
    "\n",
    "print \"generating 1024 dim KD tree, this will take a couple minutes\"\n",
    "kdTree1024Dim = scipy.spatial.KDTree(data)    \n"
   ]
  },
  {
   "cell_type": "code",
   "execution_count": 124,
   "metadata": {},
   "outputs": [
    {
     "name": "stdout",
     "output_type": "stream",
     "text": [
      "initial_dims=30, perplexity=30, 124.192649126 seconds\n"
     ]
    }
   ],
   "source": [
    "data = data.astype(np.float64)\n",
    "def job(params):\n",
    "    start = time()\n",
    "    data2d = tsne(data, data_root, mode, colorMap, initial_dims=params[0], perplexity=params[1])\n",
    "    print 'initial_dims={}, perplexity={}, {} seconds'.format(params[0], params[1], time() - start)\n",
    "    return data2d\n",
    "params = list(itertools.product(initial_dims, perplexities))\n",
    "pool = Pool()\n",
    "dimReducedArrays = pool.map(job, params)\n",
    "newData = dimReducedArrays[0]\n",
    "kdTree2Dim = scipy.spatial.KDTree(newData)"
   ]
  },
  {
   "cell_type": "code",
   "execution_count": 123,
   "metadata": {},
   "outputs": [
    {
     "name": "stdout",
     "output_type": "stream",
     "text": [
      " [None]\n"
     ]
    }
   ],
   "source": [
    "print dimReducedArrays"
   ]
  },
  {
   "cell_type": "code",
   "execution_count": 115,
   "metadata": {},
   "outputs": [
    {
     "name": "stdout",
     "output_type": "stream",
     "text": [
      "\n"
     ]
    }
   ],
   "source": [
    "\n",
    "\n",
    "def getClassesPerSample(data):\n",
    "    drumClasses = {}\n",
    "    classIndex = 0\n",
    "    for i in range(len(data)):\n",
    "        if sum(drumLengths[0:classIndex+1]) <= i:\n",
    "            classIndex += 1\n",
    "        drumClasses[tuple(data[i])] = drumNames[classIndex]\n",
    "    return drumClasses\n",
    "\n",
    "drumClasses = getClassesPerSample(data)\n",
    "\n",
    "\n",
    "def calculateKNNClassAccuracy(data, numNeighbors, printTiming=False, existingTree=None):\n",
    "    startTime = 0\n",
    "    if printTiming:\n",
    "        print \"building tree\", timeMod.time()-startTime\n",
    "    \n",
    "    if existingTree is None:\n",
    "        kdTree = scipy.spatial.KDTree(data) #takes about 2 minutes for 1024 dims\n",
    "    else:\n",
    "        kdTree = existingTree\n",
    "    \n",
    "    if printTiming:\n",
    "        print \"tree built\", timeMod.time()-startTime \n",
    "        \n",
    "    drumClasses = getClassesPerSample(data)\n",
    "    \n",
    "    return calcNeighborDistances(data, numNeighbors, kdTree, True)\n",
    "\n",
    "        \n",
    "def calcNeighborDistances(pointData, numNeighbors, kdTree, printTiming=False):\n",
    "    startTime = timeMod.time()\n",
    "    if printTiming:\n",
    "        print \"calculating nearest neighbor classes\"\n",
    "    fracCorrectNeighbors = np.zeros((len(data)))\n",
    "    for i in range(len(pointData)):\n",
    "        if printTiming:\n",
    "            if i % 1000 == 0:\n",
    "                print \"evaluating neighbors for point\", i, timeMod.time() - startTime\n",
    "        neighborDistances, neighborIndexes = kdTree.query(pointData[i], numNeighbors)\n",
    "        neighbors = [data[ind] for ind in neighborIndexes]\n",
    "\n",
    "        sampleClass = drumClasses[tuple(data[i])]\n",
    "        neighborClasses = [drumClasses[tuple(neighbor)] for neighbor in neighbors]\n",
    "        numCorrectNeighborClasses = len(filter(lambda c : c == sampleClass, neighborClasses))\n",
    "        fracCorrectNeighbors[i] = numCorrectNeighborClasses * 1.0 / numNeighbors\n",
    "        \n",
    "    return fracCorrectNeighbors\n",
    "    #from here do we want - mean, median, mode, stddev of correctClass fraction?\n",
    "    #mean, median, mode, stddev of correctClass frac per class\n",
    "    #% accuracy over a thresold?\n",
    "\n",
    "def calculateFuncPerClass(data, numPerClass, calcFunc):\n",
    "    segments = [0]+numPerClass\n",
    "    for i in range(1, len(segments)):\n",
    "        segments[i] = segments[i] + segments[i-1]\n",
    "    valuesPerClass = []\n",
    "    for i in range(len(segments)-1):\n",
    "        valuesPerClass.append(calcFunc(data[segments[i]:segments[i+1]]))\n",
    "    return valuesPerClass\n",
    "\n",
    "numNeighbors = 10\n",
    "\n",
    "\n"
   ]
  },
  {
   "cell_type": "code",
   "execution_count": 116,
   "metadata": {},
   "outputs": [
    {
     "name": "stdout",
     "output_type": "stream",
     "text": [
      "building tree 1507407928.65\n",
      "tree built 1507407928.65\n",
      "calculating nearest neighbor classes\n",
      "evaluating neighbors for point 0 0.000815868377686\n",
      "evaluating neighbors for point 1000 115.909148932\n",
      "evaluating neighbors for point 2000 238.807391882\n",
      "evaluating neighbors for point 3000 356.995471954\n",
      "evaluating neighbors for point 4000 474.88192296\n",
      "evaluating neighbors for point 5000 589.373081923\n",
      "evaluating neighbors for point 6000 718.804381847\n",
      "evaluating neighbors for point 7000 855.206861019\n",
      "evaluating neighbors for point 8000 990.591647863\n",
      "evaluating neighbors for point 9000 1125.77812099\n",
      "evaluating neighbors for point 10000 1270.26736403\n"
     ]
    }
   ],
   "source": [
    "classAccuracies_HD = calculateKNNClassAccuracy(data, numNeighbors, True, kdTree1024Dim)"
   ]
  },
  {
   "cell_type": "code",
   "execution_count": 127,
   "metadata": {},
   "outputs": [
    {
     "name": "stdout",
     "output_type": "stream",
     "text": [
      "building tree 1507410395.51\n",
      "tree built 1507410395.51\n",
      "calculating nearest neighbor classes\n",
      "evaluating neighbors for point 0 0.000693798065186\n",
      "evaluating neighbors for point 1000 1.13937783241\n",
      "evaluating neighbors for point 2000 2.22474694252\n",
      "evaluating neighbors for point 3000 3.29074978828\n",
      "evaluating neighbors for point 4000 4.38694787025\n",
      "evaluating neighbors for point 5000 5.47066187859\n",
      "evaluating neighbors for point 6000 6.56675577164\n",
      "evaluating neighbors for point 7000 7.62933897972\n",
      "evaluating neighbors for point 8000 8.69908380508\n",
      "evaluating neighbors for point 9000 9.81199383736\n",
      "evaluating neighbors for point 10000 10.8873569965\n"
     ]
    }
   ],
   "source": [
    "classAccuracies_LD = calculateKNNClassAccuracy(newData, numNeighbors, True, kdTree2Dim)"
   ]
  },
  {
   "cell_type": "code",
   "execution_count": 125,
   "metadata": {},
   "outputs": [
    {
     "data": {
      "text/plain": [
       "10560"
      ]
     },
     "execution_count": 125,
     "metadata": {},
     "output_type": "execute_result"
    }
   ],
   "source": [
    "len(classAccuracies_HD)"
   ]
  },
  {
   "cell_type": "code",
   "execution_count": 126,
   "metadata": {},
   "outputs": [],
   "source": [
    "import cPickle\n",
    "cPickle.dump(classAccuracies_HD, open(\"1024DimClassAccuracies10neighbors.np\", \"w\"))"
   ]
  },
  {
   "cell_type": "code",
   "execution_count": null,
   "metadata": {},
   "outputs": [],
   "source": [
    "import numpy as np\n",
    "y = np.zeros((2, 3, 4))\n",
    "for i in range(2):\n",
    "    for j in range(3):\n",
    "        for k in range(4):\n",
    "            y[i][j][k] = str(i*12 + j*4 + k)\n",
    "y.shape = (2, 12)\n",
    "a = {}\n",
    "a[tuple(y[0])] = 5"
   ]
  },
  {
   "cell_type": "code",
   "execution_count": null,
   "metadata": {},
   "outputs": [],
   "source": [
    "y.shape = (24)\n",
    "print y[0:10]"
   ]
  },
  {
   "cell_type": "code",
   "execution_count": null,
   "metadata": {},
   "outputs": [],
   "source": [
    "from multiprocessing import Pool\n",
    "pool = Pool()\n",
    "print pool.map(str, [1, 2, 3])"
   ]
  },
  {
   "cell_type": "code",
   "execution_count": null,
   "metadata": {
    "collapsed": true
   },
   "outputs": [],
   "source": [
    "# use this to calculate \"k-nearest-neighbors class-preservation\" metric\n",
    "# https://docs.scipy.org/doc/scipy-0.14.0/reference/generated/scipy.spatial.KDTree.html"
   ]
  },
  {
   "cell_type": "code",
   "execution_count": null,
   "metadata": {},
   "outputs": [],
   "source": [
    "a = [1, 2, 3, 4]\n",
    "a.partition(0,2,4)"
   ]
  }
 ],
 "metadata": {
  "kernelspec": {
   "display_name": "Python 2",
   "language": "python",
   "name": "python2"
  },
  "language_info": {
   "codemirror_mode": {
    "name": "ipython",
    "version": 2
   },
   "file_extension": ".py",
   "mimetype": "text/x-python",
   "name": "python",
   "nbconvert_exporter": "python",
   "pygments_lexer": "ipython2",
   "version": "2.7.13"
  }
 },
 "nbformat": 4,
 "nbformat_minor": 1
}
