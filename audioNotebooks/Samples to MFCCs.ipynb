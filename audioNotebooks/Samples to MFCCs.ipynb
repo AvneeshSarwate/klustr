{
 "cells": [
  {
   "cell_type": "code",
   "execution_count": 8,
   "metadata": {
    "collapsed": true
   },
   "outputs": [],
   "source": [
    "%matplotlib inline\n",
    "from matplotlib import pyplot as plt\n",
    "from time import time\n",
    "from utils import *\n",
    "from os.path import join\n",
    "from multiprocessing import Pool\n",
    "import numpy as np\n",
    "import itertools\n",
    "import time as timeMod\n",
    "from time import mktime\n",
    "from datetime import datetime\n",
    "import scipy.spatial\n",
    "import scipy.spatial.distance as dist \n",
    "import python_speech_features as psf\n",
    "import pickle\n",
    "from skimage.measure import block_reduce"
   ]
  },
  {
   "cell_type": "code",
   "execution_count": 7,
   "metadata": {},
   "outputs": [
    {
     "data": {
      "text/plain": [
       "array([[1, 2, 3, 4],\n",
       "       [5, 6, 7, 8]])"
      ]
     },
     "execution_count": 7,
     "metadata": {},
     "output_type": "execute_result"
    }
   ],
   "source": [
    "a = np.array([[[1,2],[3,4]], [[5,6],[7,8]]])\n",
    "a.reshape(len(a), -1)"
   ]
  },
  {
   "cell_type": "code",
   "execution_count": 9,
   "metadata": {},
   "outputs": [
    {
     "name": "stdout",
     "output_type": "stream",
     "text": [
      "CPU times: user 319 µs, sys: 230 ms, total: 231 ms\n",
      "Wall time: 339 ms\n",
      "CPU times: user 595 µs, sys: 21.2 ms, total: 21.8 ms\n",
      "Wall time: 29.7 ms\n",
      "CPU times: user 497 µs, sys: 114 ms, total: 115 ms\n",
      "Wall time: 170 ms\n",
      "CPU times: user 914 µs, sys: 60.8 ms, total: 61.7 ms\n",
      "Wall time: 90.5 ms\n",
      "CPU times: user 486 µs, sys: 6.94 ms, total: 7.42 ms\n",
      "Wall time: 10.9 ms\n",
      "CPU times: user 443 µs, sys: 11.1 ms, total: 11.5 ms\n",
      "Wall time: 17 ms\n",
      "CPU times: user 401 µs, sys: 33.8 ms, total: 34.2 ms\n",
      "Wall time: 49.5 ms\n"
     ]
    }
   ],
   "source": [
    "data_root = 'drumData/'\n",
    "sr = 48000 # this is the samplerate initially used to load the samples\n",
    "drumNames = pickle.load(open(data_root+'drumNames.pickle'))\n",
    "drumLengths = pickle.load(open(data_root+'drumLengths.pickle'))\n",
    "drumMFCCs = {}\n",
    "for d in drumNames:\n",
    "    %time drumSamples[d] = np.load(join(data_root, d+'_samples.npy'))\n",
    "n_fft = 1024\n",
    "hop_length = n_fft/4\n",
    "use_logamp = False # boost the brightness of quiet sounds\n",
    "reduce_rows = 10 # how many frequency bands to average into one\n",
    "reduce_cols = 1 # how many time steps to average into one\n",
    "crop_rows = 32 # limit how many frequency bands to use\n",
    "crop_cols = 32 # limit how many time steps to use\n",
    "limit = None # set this to 100 to only process 100 samples"
   ]
  },
  {
   "cell_type": "code",
   "execution_count": 13,
   "metadata": {
    "collapsed": true
   },
   "outputs": [
    {
     "name": "stdout",
     "output_type": "stream",
     "text": [
      "CPU times: user 298 ms, sys: 335 ms, total: 633 ms\n",
      "Wall time: 2.8 s\n",
      " generated finger print for kick (5158, 160)\n",
      "CPU times: user 27.2 ms, sys: 23.7 ms, total: 51 ms\n",
      "Wall time: 251 ms\n",
      "generated finger print for tom (422, 160)\n",
      "CPU times: user 142 ms, sys: 118 ms, total: 260 ms\n",
      "Wall time: 1.35 s\n",
      "generated finger print for snare (2546, 160)\n",
      "CPU times: user 86.7 ms, sys: 88.7 ms, total: 175 ms\n",
      "Wall time: 745 ms\n",
      "generated finger print for clap (1324, 160)\n",
      "CPU times: user 14.8 ms, sys: 11.1 ms, total: 25.9 ms\n",
      "Wall time: 125 ms\n",
      "generated finger print for hi.hat (159, 160)\n",
      "CPU times: user 18.2 ms, sys: 15 ms, total: 33.2 ms\n",
      "Wall time: 155 ms\n",
      "generated finger print for ride (228, 160)\n",
      "CPU times: user 40.9 ms, sys: 36.2 ms, total: 77.1 ms\n",
      "Wall time: 396 ms\n",
      "generated finger print for crash (723, 160)\n"
     ]
    }
   ],
   "source": [
    "window = np.hanning(n_fft)\n",
    "def job(y):\n",
    "    mfcc = psf.mfcc(y, samplerate=sr, winlen=len(y)/sr, winstep=1.0/sr*hop_length, numcep=22, nfft=n_fft, winfunc=np.hanning)  \n",
    "    amp = np.abs(mfcc)\n",
    "    if reduce_rows > 1 or reduce_cols > 1:\n",
    "        amp = block_reduce(amp, (reduce_rows, reduce_cols), func=np.mean)\n",
    "    if amp.shape[1] < crop_cols:\n",
    "        amp = np.pad(amp, ((0, 0), (0, crop_cols-amp.shape[1])), 'constant')\n",
    "    amp = amp[:crop_rows, :crop_cols]\n",
    "   \n",
    "    #are you supposed to normalize mfcc?\n",
    "    amp -= amp.min()\n",
    "    if amp.max() > 0:\n",
    "        amp /= amp.max()\n",
    "    return amp\n",
    "\n",
    "for d in drumNames:\n",
    "    pool = Pool()\n",
    "    %time mfccs = pool.map(job, drumSamples[d][:limit])\n",
    "    mfccs = np.asarray(mfccs).astype(np.float32)\n",
    "    mfccs = mfccs.reshape(len(mfccs), -1)\n",
    "    drumMFCCs[d] = mfccs\n",
    "    print \"generated finger print for\", d, mfccs.shape\n",
    "\n",
    "data = np.concatenate([drumMFCCs[d] for d in drumNames])"
   ]
  },
  {
   "cell_type": "code",
   "execution_count": 15,
   "metadata": {},
   "outputs": [
    {
     "name": "stdout",
     "output_type": "stream",
     "text": [
      "saved kick_mfccs.npy\n",
      "saved tom_mfccs.npy\n",
      "saved snare_mfccs.npy\n",
      "saved clap_mfccs.npy\n",
      "saved hi.hat_mfccs.npy\n",
      "saved ride_mfccs.npy\n",
      "saved crash_mfccs.npy\n"
     ]
    }
   ],
   "source": [
    "for d in drumNames:\n",
    "    np.save(join(data_root, d+'_mfccs.npy'), drumMFCCs[d])\n",
    "    print \"saved\", d+'_mfccs.npy'"
   ]
  },
  {
   "cell_type": "markdown",
   "metadata": {},
   "source": [
    "### Common setup "
   ]
  },
  {
   "cell_type": "code",
   "execution_count": null,
   "metadata": {
    "collapsed": true
   },
   "outputs": [],
   "source": [
    "# create point -> class hashmap\n",
    "def getClassesPerSample(data):\n",
    "    drumClasses = {}\n",
    "    classIndex = 0\n",
    "    for i in range(len(data)):\n",
    "        if sum(drumLengths[0:classIndex+1]) <= i:\n",
    "            classIndex += 1\n",
    "        drumClasses[tuple(data[i])] = drumNames[classIndex]\n",
    "    return drumClasses\n",
    "\n",
    "drumClasses = getClassesPerSample(data)\n",
    "\n",
    "numNeighbors = 10\n",
    "\n",
    "## Arguments\n",
    "## data -    an array of length n where array[i] is the fraction of neighbors of point i \n",
    "#            had the same class as point i.\n",
    "# numPerClass - Assumes that points from the same class are contiguous and in\n",
    "#            the same order as drumNames. Should use drumLengths for this parameter\n",
    "# calcFunc - The summary statistic you want to calcuate per class (mean, medain, etc)\n",
    "def calculateFuncPerClass(data, numPerClass, calcFunc):\n",
    "    segments = [0]+numPerClass\n",
    "    for i in range(1, len(segments)):\n",
    "        segments[i] = segments[i] + segments[i-1]\n",
    "    valuesPerClass = []\n",
    "    for i in range(len(segments)-1):\n",
    "        valuesPerClass.append(calcFunc(data[segments[i]:segments[i+1]]))\n",
    "    return valuesPerClass"
   ]
  },
  {
   "cell_type": "markdown",
   "metadata": {},
   "source": [
    "### pairwise distance implementation"
   ]
  },
  {
   "cell_type": "code",
   "execution_count": null,
   "metadata": {
    "collapsed": true
   },
   "outputs": [],
   "source": [
    "#using https://docs.scipy.org/doc/scipy-0.19.0/reference/generated/scipy.spatial.distance.cdist.html\n",
    "#and argpartition from - https://stackoverflow.com/questions/6910641/how-to-get-indices-of-n-maximum-values-in-a-numpy-array\n",
    "\n",
    "## Arguments - pointData is m x n np array, with n points of m dimensions\n",
    "# pointD numNeighbors is the number of nearest neighbors for which to compare classes\n",
    "#\n",
    "## returns - an array of length n where array[i] is the fraction of neighbors of point i \n",
    "#            had the same class as point i\n",
    "def calculateKNNClassAccuracy_pairwise(pointData, numNeighbors, printTimes=False):\n",
    "    startTime = timeMod.time()\n",
    "    pairwiseDist = dist.cdist(pointData, pointData)\n",
    "    if printTimes:\n",
    "        print \"pairwise distances calculated\", timeMod.time() - startTime\n",
    "    kPartition = np.argpartition(pairwiseDist, -numNeighbors)\n",
    "    if printTimes:\n",
    "        print \"partitions calculated\", timeMod.time() - startTime\n",
    "    fracSameNeighborClasses = np.zeros((len(data)))\n",
    "    \n",
    "    for i in range(len(pairwiseDist)):\n",
    "        neighborIndexes = kPartition[i][-numNeighbors:]\n",
    "        neighbors = [data[ind] for ind in neighborIndexes]\n",
    "        \n",
    "        sampleClass = drumClasses[tuple(data[i])]\n",
    "        neighborClasses = [drumClasses[tuple(neighbor)] for neighbor in neighbors]\n",
    "        numSameNeighborClasses = len(filter(lambda c : c == sampleClass, neighborClasses))\n",
    "        fracSameNeighborClasses[i] = numSameNeighborClasses * 1.0 / numNeighbors\n",
    "    \n",
    "    if printTimes:\n",
    "        print \"knn classes calculated\", timeMod.time() - startTime\n",
    "        \n",
    "    return fracSameNeighborClasses\n",
    "\n",
    "#classAccuracies_LD = calculateKNNClassAccuracy(newData, numNeighbors, True)\n",
    "classAccuracies_HD = calculateKNNClassAccuracy_pairwise(data, numNeighbors, True)"
   ]
  },
  {
   "cell_type": "code",
   "execution_count": null,
   "metadata": {
    "collapsed": true
   },
   "outputs": [],
   "source": []
  }
 ],
 "metadata": {
  "kernelspec": {
   "display_name": "Python 2",
   "language": "python",
   "name": "python2"
  },
  "language_info": {
   "codemirror_mode": {
    "name": "ipython",
    "version": 2
   },
   "file_extension": ".py",
   "mimetype": "text/x-python",
   "name": "python",
   "nbconvert_exporter": "python",
   "pygments_lexer": "ipython2",
   "version": "2.7.13"
  }
 },
 "nbformat": 4,
 "nbformat_minor": 2
}
