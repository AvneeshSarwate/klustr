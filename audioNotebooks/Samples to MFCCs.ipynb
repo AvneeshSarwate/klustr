{
 "cells": [
  {
   "cell_type": "code",
   "execution_count": 1,
   "metadata": {
    "collapsed": true
   },
   "outputs": [],
   "source": [
    "%matplotlib inline\n",
    "from matplotlib import pyplot as plt\n",
    "from time import time\n",
    "from utils import *\n",
    "from os.path import join\n",
    "from multiprocessing import Pool\n",
    "import numpy as np\n",
    "import itertools\n",
    "import time as timeMod\n",
    "from time import mktime\n",
    "from datetime import datetime\n",
    "import scipy.spatial\n",
    "import scipy.spatial.distance as dist \n",
    "import python_speech_features as psf\n",
    "import pickle\n",
    "from skimage.measure import block_reduce\n",
    "from sklearn.decomposition import PCA"
   ]
  },
  {
   "cell_type": "code",
   "execution_count": 2,
   "metadata": {},
   "outputs": [],
   "source": [
    "data_root = 'drumData/'\n",
    "sr = 48000 # this is the samplerate initially used to load the samples\n",
    "drumNames = pickle.load(open(data_root+'drumNames.pickle'))\n",
    "drumLengths = pickle.load(open(data_root+'drumLengths.pickle'))\n",
    "drumMFCCs = {}\n",
    "drumSamples = {}\n",
    "n_fft = 1024\n",
    "hop_length = n_fft/4\n",
    "use_logamp = False # boost the brightness of quiet sounds\n",
    "reduce_rows = 10 # how many frequency bands to average into one\n",
    "reduce_cols = 1 # how many time steps to average into one\n",
    "crop_rows = 32 # limit how many frequency bands to use\n",
    "crop_cols = 32 # limit how many time steps to use\n",
    "limit = None # set this to 100 to only process 100 samples\n",
    "colors = ['#000000', '#ff0000', '#00ff00', '#0000ff', '#ffff00', '#ff00ff', '#00ffff']\n",
    "initial_dims = [30]\n",
    "perplexities = [30]"
   ]
  },
  {
   "cell_type": "code",
   "execution_count": 6,
   "metadata": {},
   "outputs": [
    {
     "name": "stdout",
     "output_type": "stream",
     "text": [
      "CPU times: user 946 µs, sys: 203 ms, total: 204 ms\n",
      "Wall time: 363 ms\n",
      "CPU times: user 478 µs, sys: 16.2 ms, total: 16.7 ms\n",
      "Wall time: 35.5 ms\n",
      "CPU times: user 525 µs, sys: 96.7 ms, total: 97.2 ms\n",
      "Wall time: 156 ms\n",
      "CPU times: user 1.45 ms, sys: 59 ms, total: 60.4 ms\n",
      "Wall time: 124 ms\n",
      "CPU times: user 472 µs, sys: 6.52 ms, total: 6.99 ms\n",
      "Wall time: 10.8 ms\n",
      "CPU times: user 407 µs, sys: 9.34 ms, total: 9.75 ms\n",
      "Wall time: 16.3 ms\n",
      "CPU times: user 400 µs, sys: 25 ms, total: 25.4 ms\n",
      "Wall time: 43.2 ms\n",
      "CPU times: user 267 ms, sys: 214 ms, total: 481 ms\n",
      "Wall time: 3.12 s\n",
      "generated mfccs for kick (5158, 160)\n",
      "CPU times: user 24.6 ms, sys: 20.6 ms, total: 45.3 ms\n",
      "Wall time: 246 ms\n",
      "generated mfccs for tom (422, 160)\n",
      "CPU times: user 131 ms, sys: 102 ms, total: 233 ms\n",
      "Wall time: 1.51 s\n",
      "generated mfccs for snare (2546, 160)\n",
      "CPU times: user 81.3 ms, sys: 63.1 ms, total: 144 ms\n",
      "Wall time: 856 ms\n",
      "generated mfccs for clap (1324, 160)\n",
      "CPU times: user 15.5 ms, sys: 11.5 ms, total: 27 ms\n",
      "Wall time: 161 ms\n",
      "generated mfccs for hi.hat (159, 160)\n",
      "CPU times: user 20.6 ms, sys: 17.3 ms, total: 37.9 ms\n",
      "Wall time: 196 ms\n",
      "generated mfccs for ride (228, 160)\n",
      "CPU times: user 47.3 ms, sys: 43.1 ms, total: 90.5 ms\n",
      "Wall time: 460 ms\n",
      "generated mfccs for crash (723, 160)\n"
     ]
    }
   ],
   "source": [
    "for d in drumNames:\n",
    "    %time drumSamples[d] = np.load(join(data_root, d+'_samples.npy'))\n",
    "\n",
    "window = np.hanning(n_fft)\n",
    "def job(y):\n",
    "    mfcc = psf.mfcc(y, samplerate=sr, winlen=len(y)/sr, winstep=1.0/sr*hop_length, numcep=22, nfft=n_fft, winfunc=np.hanning)  \n",
    "    if reduce_rows > 1 or reduce_cols > 1:\n",
    "        amp = block_reduce(amp, (reduce_rows, reduce_cols), func=np.mean)\n",
    "    if amp.shape[1] < crop_cols:    \n",
    "        amp = np.pad(amp, ((0, 0), (0, crop_cols-amp.shape[1])), 'constant')\n",
    "    amp = amp[:crop_rows, :crop_cols]\n",
    "   \n",
    "    #are you supposed to normalize mfcc?\n",
    "    amp -= amp.min()\n",
    "    if amp.max() > 0:\n",
    "        amp /= amp.max()\n",
    "    return amp\n",
    "\n",
    "for d in drumNames:\n",
    "    pool = Pool()\n",
    "    %time mfccs = pool.map(job, drumSamples[d][:limit])\n",
    "    mfccs = np.asarray(mfccs).astype(np.float32)\n",
    "    mfccs = mfccs.reshape(len(mfccs), -1)\n",
    "    drumMFCCs[d] = mfccs\n",
    "    print \"generated mfccs for\", d, mfccs.shape\n",
    "\n",
    "data = np.concatenate([drumMFCCs[d] for d in drumNames])"
   ]
  },
  {
   "cell_type": "code",
   "execution_count": null,
   "metadata": {},
   "outputs": [],
   "source": [
    "for d in drumNames:\n",
    "    np.save(join(data_root, d+'_mfccs.npy'), drumMFCCs[d])\n",
    "    print \"saved\", d+'_mfccs.npy'"
   ]
  },
  {
   "cell_type": "markdown",
   "metadata": {},
   "source": [
    "# define TSNE/PCA calculations"
   ]
  },
  {
   "cell_type": "code",
   "execution_count": 7,
   "metadata": {
    "collapsed": true
   },
   "outputs": [],
   "source": [
    "X_2d_inspect = None\n",
    "\n",
    "def save_data(data, fn):\n",
    "    np.savetxt(fn, data, fmt='%.5f', delimiter='\\t')\n",
    "\n",
    "def savePlotsAndData(newData, data_root, prefix, colorMap, dataDir, plotDir, initial_dims=30, perplexity=30):    \n",
    "    figsize = (16,16)\n",
    "    pointsize = 30\n",
    "    \n",
    "    struct = timeMod.localtime(time())\n",
    "    dt = datetime.fromtimestamp(mktime(struct))\n",
    "    \n",
    "    save_data(newData, join(data_root, dataDir+'/{}.{}.{}.2d - {}.tsv'.format(prefix, initial_dims, perplexity, dt)))\n",
    "    \n",
    "    plt.figure(figsize=figsize)\n",
    "    plt.scatter(newData[:,0], newData[:,1], c=colorMap, s=pointsize)\n",
    "    plt.tight_layout()\n",
    "    plt.savefig(join(data_root, plotDir+'/{}.{}.{}_2D - {}.png'.format(prefix, initial_dims, perplexity, dt)))\n",
    "    plt.close()\n",
    "    \n",
    "def tsne(data, data_root, prefix, colorMap, initial_dims=30, perplexity=30):\n",
    "    mkdir_p(data_root + 'tsne')\n",
    "    mkdir_p(data_root + 'plot')\n",
    "    \n",
    "    print initial_dims, perplexity, type(data), data.shape, data.dtype\n",
    "    X_2d = list(bh_tsne(data, initial_dims=initial_dims, perplexity=perplexity, no_dims=2, verbose=True))\n",
    "    X_2d = normalize(np.array(X_2d))\n",
    "    \n",
    "    savePlotsAndData(X_2d, data_root, prefix, colorMap, 'tsne', 'plot')\n",
    "    \n",
    "    return X_2d\n",
    "\n",
    "def pca(data, data_root, prefix, colorMap):\n",
    "    mkdir_p(data_root + 'pca')\n",
    "    mkdir_p(data_root + 'pcaPlot')\n",
    "    \n",
    "    pcaInstance = PCA(n_components=2)  \n",
    "    X_2d = pcaInstance.fit_transform(data)\n",
    "    \n",
    "    savePlotsAndData(X_2d, data_root, prefix, colorMap, 'pca', 'pcaPlot')\n",
    "    \n",
    "    return X_2d\n",
    "\n",
    "    \n",
    "def concatColors(segmentList, colorList):\n",
    "    multiples = []\n",
    "    #print segmentList, colorList\n",
    "    for i in range(len(segmentList)):\n",
    "        multiples.append([colorList[i]]*segmentList[i])\n",
    "    return list(itertools.chain(*multiples))"
   ]
  },
  {
   "cell_type": "code",
   "execution_count": null,
   "metadata": {},
   "outputs": [],
   "source": [
    "drumMFCCdata = []\n",
    "for drum in drumNames:\n",
    "    drumMFCCs[drum] = np.load(join(data_root, drum+'_mfccs.npy'))\n",
    "    drumMFCCdata.append(drumMFCCs[drum])\n",
    "    print drum, drumMFCCdata[-1].shape\n",
    "drumLengths = [drummfcc.shape[0] for drummfcc in drumMFCCdata]\n",
    "colorMap = concatColors(drumLengths, colors)\n",
    "mfccData = np.vstack(drumMFCCdata)\n",
    "mfccData = mfccData.reshape(len(mfccData), -1)\n",
    "data = mfccData"
   ]
  },
  {
   "cell_type": "markdown",
   "metadata": {},
   "source": [
    "### Do dimensionality reduction"
   ]
  },
  {
   "cell_type": "code",
   "execution_count": 8,
   "metadata": {},
   "outputs": [],
   "source": [
    "mfccData = data\n",
    "drumPrints = []\n",
    "for drum in drumNames:\n",
    "    drumPrints.append(np.load(join(data_root, drum+'_fingerprints.npy')))\n",
    "    #print drum, drumPrints[-1].shape\n",
    "drumLengths = [drumPrint.shape[0] for drumPrint in drumPrints]\n",
    "colorMap = concatColors(drumLengths, colors)\n",
    "fingerprints = np.vstack(drumPrints)\n",
    "fingerprints = fingerprints.reshape(len(fingerprints), -1)"
   ]
  },
  {
   "cell_type": "code",
   "execution_count": 11,
   "metadata": {
    "scrolled": true
   },
   "outputs": [
    {
     "name": "stdout",
     "output_type": "stream",
     "text": [
      "30 30 <type 'numpy.ndarray'> (100, 160) float64\n"
     ]
    },
    {
     "ename": "AssertionError",
     "evalue": "ERROR: Call to bh_tsne exited with a non-zero return code exit status, please refer to the bh_tsne output for further details",
     "output_type": "error",
     "traceback": [
      "\u001b[0;31m---------------------------------------------------------------------------\u001b[0m",
      "\u001b[0;31mAssertionError\u001b[0m                            Traceback (most recent call last)",
      "\u001b[0;32m<ipython-input-11-3d93b8ede55c>\u001b[0m in \u001b[0;36m<module>\u001b[0;34m()\u001b[0m\n\u001b[1;32m     22\u001b[0m     \u001b[0;32mreturn\u001b[0m \u001b[0mdata2d\u001b[0m\u001b[0;34m\u001b[0m\u001b[0m\n\u001b[1;32m     23\u001b[0m \u001b[0mparams\u001b[0m \u001b[0;34m=\u001b[0m \u001b[0mlist\u001b[0m\u001b[0;34m(\u001b[0m\u001b[0mitertools\u001b[0m\u001b[0;34m.\u001b[0m\u001b[0mproduct\u001b[0m\u001b[0;34m(\u001b[0m\u001b[0minitial_dims\u001b[0m\u001b[0;34m,\u001b[0m \u001b[0mperplexities\u001b[0m\u001b[0;34m)\u001b[0m\u001b[0;34m)\u001b[0m\u001b[0;34m\u001b[0m\u001b[0m\n\u001b[0;32m---> 24\u001b[0;31m \u001b[0mdimReducedArrays\u001b[0m \u001b[0;34m=\u001b[0m \u001b[0mjob\u001b[0m\u001b[0;34m(\u001b[0m\u001b[0mparams\u001b[0m\u001b[0;34m[\u001b[0m\u001b[0;36m0\u001b[0m\u001b[0;34m]\u001b[0m\u001b[0;34m)\u001b[0m\u001b[0;34m\u001b[0m\u001b[0m\n\u001b[0m\u001b[1;32m     25\u001b[0m \u001b[0mnewData\u001b[0m \u001b[0;34m=\u001b[0m \u001b[0mdimReducedArrays\u001b[0m\u001b[0;34m[\u001b[0m\u001b[0;36m0\u001b[0m\u001b[0;34m]\u001b[0m\u001b[0;34m\u001b[0m\u001b[0m\n",
      "\u001b[0;32m<ipython-input-11-3d93b8ede55c>\u001b[0m in \u001b[0;36mjob\u001b[0;34m(params)\u001b[0m\n\u001b[1;32m     16\u001b[0m     \u001b[0mstart\u001b[0m \u001b[0;34m=\u001b[0m \u001b[0mtime\u001b[0m\u001b[0;34m(\u001b[0m\u001b[0;34m)\u001b[0m\u001b[0;34m\u001b[0m\u001b[0m\n\u001b[1;32m     17\u001b[0m     \u001b[0;32mif\u001b[0m \u001b[0museTsne\u001b[0m\u001b[0;34m:\u001b[0m\u001b[0;34m\u001b[0m\u001b[0m\n\u001b[0;32m---> 18\u001b[0;31m         \u001b[0mdata2d\u001b[0m \u001b[0;34m=\u001b[0m \u001b[0mtsne\u001b[0m\u001b[0;34m(\u001b[0m\u001b[0mdata\u001b[0m\u001b[0;34m,\u001b[0m \u001b[0mdata_root\u001b[0m\u001b[0;34m,\u001b[0m \u001b[0mprefix\u001b[0m\u001b[0;34m,\u001b[0m \u001b[0mcolorMap\u001b[0m\u001b[0;34m,\u001b[0m \u001b[0minitial_dims\u001b[0m\u001b[0;34m=\u001b[0m\u001b[0mparams\u001b[0m\u001b[0;34m[\u001b[0m\u001b[0;36m0\u001b[0m\u001b[0;34m]\u001b[0m\u001b[0;34m,\u001b[0m \u001b[0mperplexity\u001b[0m\u001b[0;34m=\u001b[0m\u001b[0mparams\u001b[0m\u001b[0;34m[\u001b[0m\u001b[0;36m1\u001b[0m\u001b[0;34m]\u001b[0m\u001b[0;34m)\u001b[0m\u001b[0;34m\u001b[0m\u001b[0m\n\u001b[0m\u001b[1;32m     19\u001b[0m     \u001b[0;32melse\u001b[0m\u001b[0;34m:\u001b[0m\u001b[0;34m\u001b[0m\u001b[0m\n\u001b[1;32m     20\u001b[0m         \u001b[0mdata2d\u001b[0m \u001b[0;34m=\u001b[0m \u001b[0mpca\u001b[0m\u001b[0;34m(\u001b[0m\u001b[0mdata\u001b[0m\u001b[0;34m,\u001b[0m \u001b[0mdata_root\u001b[0m\u001b[0;34m,\u001b[0m \u001b[0mprefix\u001b[0m\u001b[0;34m,\u001b[0m \u001b[0mcolorMap\u001b[0m\u001b[0;34m)\u001b[0m\u001b[0;34m\u001b[0m\u001b[0m\n",
      "\u001b[0;32m<ipython-input-7-b38e4abcfd2a>\u001b[0m in \u001b[0;36mtsne\u001b[0;34m(data, data_root, prefix, colorMap, initial_dims, perplexity)\u001b[0m\n\u001b[1;32m     24\u001b[0m \u001b[0;34m\u001b[0m\u001b[0m\n\u001b[1;32m     25\u001b[0m     \u001b[0;32mprint\u001b[0m \u001b[0minitial_dims\u001b[0m\u001b[0;34m,\u001b[0m \u001b[0mperplexity\u001b[0m\u001b[0;34m,\u001b[0m \u001b[0mtype\u001b[0m\u001b[0;34m(\u001b[0m\u001b[0mdata\u001b[0m\u001b[0;34m)\u001b[0m\u001b[0;34m,\u001b[0m \u001b[0mdata\u001b[0m\u001b[0;34m.\u001b[0m\u001b[0mshape\u001b[0m\u001b[0;34m,\u001b[0m \u001b[0mdata\u001b[0m\u001b[0;34m.\u001b[0m\u001b[0mdtype\u001b[0m\u001b[0;34m\u001b[0m\u001b[0m\n\u001b[0;32m---> 26\u001b[0;31m     \u001b[0mX_2d\u001b[0m \u001b[0;34m=\u001b[0m \u001b[0mlist\u001b[0m\u001b[0;34m(\u001b[0m\u001b[0mbh_tsne\u001b[0m\u001b[0;34m(\u001b[0m\u001b[0mdata\u001b[0m\u001b[0;34m,\u001b[0m \u001b[0minitial_dims\u001b[0m\u001b[0;34m=\u001b[0m\u001b[0minitial_dims\u001b[0m\u001b[0;34m,\u001b[0m \u001b[0mperplexity\u001b[0m\u001b[0;34m=\u001b[0m\u001b[0mperplexity\u001b[0m\u001b[0;34m,\u001b[0m \u001b[0mno_dims\u001b[0m\u001b[0;34m=\u001b[0m\u001b[0;36m2\u001b[0m\u001b[0;34m,\u001b[0m \u001b[0mverbose\u001b[0m\u001b[0;34m=\u001b[0m\u001b[0mTrue\u001b[0m\u001b[0;34m)\u001b[0m\u001b[0;34m)\u001b[0m\u001b[0;34m\u001b[0m\u001b[0m\n\u001b[0m\u001b[1;32m     27\u001b[0m     \u001b[0mX_2d\u001b[0m \u001b[0;34m=\u001b[0m \u001b[0mnormalize\u001b[0m\u001b[0;34m(\u001b[0m\u001b[0mnp\u001b[0m\u001b[0;34m.\u001b[0m\u001b[0marray\u001b[0m\u001b[0;34m(\u001b[0m\u001b[0mX_2d\u001b[0m\u001b[0;34m)\u001b[0m\u001b[0;34m)\u001b[0m\u001b[0;34m\u001b[0m\u001b[0m\n\u001b[1;32m     28\u001b[0m \u001b[0;34m\u001b[0m\u001b[0m\n",
      "\u001b[0;32m/Users/avneeshsarwate/klustr/audioNotebooks/utils/bhtsne.pyc\u001b[0m in \u001b[0;36mbh_tsne\u001b[0;34m(samples, no_dims, initial_dims, perplexity, theta, randseed, verbose)\u001b[0m\n\u001b[1;32m    139\u001b[0m                     \u001b[0;34m'with a non-zero return code exit status, please '\u001b[0m \u001b[0;34m+\u001b[0m\u001b[0;34m\u001b[0m\u001b[0m\n\u001b[1;32m    140\u001b[0m                     \u001b[0;34m(\u001b[0m\u001b[0;34m'enable verbose mode and '\u001b[0m \u001b[0;32mif\u001b[0m \u001b[0;32mnot\u001b[0m \u001b[0mverbose\u001b[0m \u001b[0;32melse\u001b[0m \u001b[0;34m''\u001b[0m\u001b[0;34m)\u001b[0m \u001b[0;34m+\u001b[0m\u001b[0;34m\u001b[0m\u001b[0m\n\u001b[0;32m--> 141\u001b[0;31m                     'refer to the bh_tsne output for further details')\n\u001b[0m\u001b[1;32m    142\u001b[0m \u001b[0;34m\u001b[0m\u001b[0m\n\u001b[1;32m    143\u001b[0m         \u001b[0;31m# Read and pass on the results\u001b[0m\u001b[0;34m\u001b[0m\u001b[0;34m\u001b[0m\u001b[0m\n",
      "\u001b[0;31mAssertionError\u001b[0m: ERROR: Call to bh_tsne exited with a non-zero return code exit status, please refer to the bh_tsne output for further details"
     ]
    }
   ],
   "source": [
    "initial_dims = [30]\n",
    "perplexities = [30]\n",
    "\n",
    "useFingerprints = False\n",
    "useTsne = True\n",
    "if useFingerprints:\n",
    "    data = fingerprints[:100]\n",
    "    prefix = 'fingerprints'\n",
    "else:\n",
    "    data = mfccData[:100]\n",
    "    prefix = 'mfcc'\n",
    "\n",
    "data = data.astype(np.float64)\n",
    "colorMap = concatColors(drumLengths, colors)\n",
    "def job(params):\n",
    "    start = time()\n",
    "    if useTsne:\n",
    "        data2d = tsne(data, data_root, prefix, colorMap, initial_dims=params[0], perplexity=params[1])\n",
    "    else:\n",
    "        data2d = pca(data, data_root, prefix, colorMap)\n",
    "    print 'initial_dims={}, perplexity={}, {} seconds'.format(params[0], params[1], time() - start)\n",
    "    return data2d\n",
    "params = list(itertools.product(initial_dims, perplexities))\n",
    "dimReducedArrays = job(params[0])\n",
    "newData = dimReducedArrays[0]"
   ]
  },
  {
   "cell_type": "code",
   "execution_count": 21,
   "metadata": {},
   "outputs": [
    {
     "data": {
      "text/plain": [
       "array([  1.00000000e+00,   0.00000000e+00,   8.89929660e-16,\n",
       "         0.00000000e+00,   6.63828360e-15,   0.00000000e+00,\n",
       "         5.71335454e-15,   0.00000000e+00,   8.52519518e-15,\n",
       "         0.00000000e+00,   9.09368812e-15,   0.00000000e+00,\n",
       "         9.97359527e-15,   0.00000000e+00,   8.18022154e-15,\n",
       "         0.00000000e+00,   4.91742267e-15,   0.00000000e+00,\n",
       "         2.82425814e-15,   0.00000000e+00,   9.53673654e-16,\n",
       "         0.00000000e+00,   0.00000000e+00,   0.00000000e+00,\n",
       "         0.00000000e+00,   0.00000000e+00,   0.00000000e+00,\n",
       "         0.00000000e+00,   0.00000000e+00,   0.00000000e+00,\n",
       "         0.00000000e+00,   0.00000000e+00,   1.00000000e+00,\n",
       "         0.00000000e+00,   8.89929660e-16,   0.00000000e+00,\n",
       "         6.63828360e-15,   0.00000000e+00,   5.71335454e-15,\n",
       "         0.00000000e+00,   8.52519518e-15,   0.00000000e+00,\n",
       "         9.09368812e-15,   0.00000000e+00,   9.97359527e-15,\n",
       "         0.00000000e+00,   8.18022154e-15,   0.00000000e+00,\n",
       "         4.91742267e-15,   0.00000000e+00,   2.82425814e-15,\n",
       "         0.00000000e+00,   9.53673654e-16,   0.00000000e+00,\n",
       "         0.00000000e+00,   0.00000000e+00,   0.00000000e+00,\n",
       "         0.00000000e+00,   0.00000000e+00,   0.00000000e+00,\n",
       "         0.00000000e+00,   0.00000000e+00,   0.00000000e+00,\n",
       "         0.00000000e+00,   1.00000000e+00,   0.00000000e+00,\n",
       "         8.89929660e-16,   0.00000000e+00,   6.63828360e-15,\n",
       "         0.00000000e+00,   5.71335454e-15,   0.00000000e+00,\n",
       "         8.52519518e-15,   0.00000000e+00,   9.09368812e-15,\n",
       "         0.00000000e+00,   9.97359527e-15,   0.00000000e+00,\n",
       "         8.18022154e-15,   0.00000000e+00,   4.91742267e-15,\n",
       "         0.00000000e+00,   2.82425814e-15,   0.00000000e+00,\n",
       "         9.53673654e-16,   0.00000000e+00,   0.00000000e+00,\n",
       "         0.00000000e+00,   0.00000000e+00,   0.00000000e+00,\n",
       "         0.00000000e+00,   0.00000000e+00,   0.00000000e+00,\n",
       "         0.00000000e+00,   0.00000000e+00,   0.00000000e+00,\n",
       "         1.00000000e+00,   0.00000000e+00,   8.89929660e-16,\n",
       "         0.00000000e+00,   6.63828360e-15,   0.00000000e+00,\n",
       "         5.71335454e-15,   0.00000000e+00,   8.52519518e-15,\n",
       "         0.00000000e+00,   9.09368812e-15,   0.00000000e+00,\n",
       "         9.97359527e-15,   0.00000000e+00,   8.18022154e-15,\n",
       "         0.00000000e+00,   4.91742267e-15,   0.00000000e+00,\n",
       "         2.82425814e-15,   0.00000000e+00,   9.53673654e-16,\n",
       "         0.00000000e+00,   0.00000000e+00,   0.00000000e+00,\n",
       "         0.00000000e+00,   0.00000000e+00,   0.00000000e+00,\n",
       "         0.00000000e+00,   0.00000000e+00,   0.00000000e+00,\n",
       "         0.00000000e+00,   0.00000000e+00,   8.00000012e-01,\n",
       "         0.00000000e+00,   7.11943739e-16,   0.00000000e+00,\n",
       "         5.31062680e-15,   0.00000000e+00,   4.57068338e-15,\n",
       "         0.00000000e+00,   6.82015598e-15,   0.00000000e+00,\n",
       "         7.27495084e-15,   0.00000000e+00,   7.97887587e-15,\n",
       "         0.00000000e+00,   6.54417740e-15,   0.00000000e+00,\n",
       "         3.93393822e-15,   0.00000000e+00,   2.25940660e-15,\n",
       "         0.00000000e+00,   7.62938881e-16,   0.00000000e+00,\n",
       "         0.00000000e+00,   0.00000000e+00,   0.00000000e+00,\n",
       "         0.00000000e+00,   0.00000000e+00,   0.00000000e+00,\n",
       "         0.00000000e+00,   0.00000000e+00,   0.00000000e+00,\n",
       "         0.00000000e+00], dtype=float32)"
      ]
     },
     "execution_count": 21,
     "metadata": {},
     "output_type": "execute_result"
    }
   ],
   "source": [
    "mfccData[0]\n"
   ]
  },
  {
   "cell_type": "markdown",
   "metadata": {},
   "source": [
    "### Common setup "
   ]
  },
  {
   "cell_type": "code",
   "execution_count": null,
   "metadata": {
    "collapsed": true
   },
   "outputs": [],
   "source": [
    "# create point -> class hashmap\n",
    "def getClassesPerSample(data):\n",
    "    drumClasses = {}\n",
    "    classIndex = 0\n",
    "    for i in range(len(data)):\n",
    "        if sum(drumLengths[0:classIndex+1]) <= i:\n",
    "            classIndex += 1\n",
    "        drumClasses[tuple(data[i])] = drumNames[classIndex]\n",
    "    return drumClasses\n",
    "\n",
    "drumClasses = getClassesPerSample(data)\n",
    "\n",
    "numNeighbors = 10\n",
    "\n",
    "## Arguments\n",
    "## data -    an array of length n where array[i] is the fraction of neighbors of point i \n",
    "#            had the same class as point i.\n",
    "# numPerClass - Assumes that points from the same class are contiguous and in\n",
    "#            the same order as drumNames. Should use drumLengths for this parameter\n",
    "# calcFunc - The summary statistic you want to calcuate per class (mean, medain, etc)\n",
    "def calculateFuncPerClass(data, numPerClass, calcFunc):\n",
    "    segments = [0]+numPerClass\n",
    "    for i in range(1, len(segments)):\n",
    "        segments[i] = segments[i] + segments[i-1]\n",
    "    valuesPerClass = []\n",
    "    for i in range(len(segments)-1):\n",
    "        valuesPerClass.append(calcFunc(data[segments[i]:segments[i+1]]))\n",
    "    return valuesPerClass"
   ]
  },
  {
   "cell_type": "markdown",
   "metadata": {},
   "source": [
    "### pairwise distance implementation"
   ]
  },
  {
   "cell_type": "code",
   "execution_count": null,
   "metadata": {
    "collapsed": true
   },
   "outputs": [],
   "source": [
    "#using https://docs.scipy.org/doc/scipy-0.19.0/reference/generated/scipy.spatial.distance.cdist.html\n",
    "#and argpartition from - https://stackoverflow.com/questions/6910641/how-to-get-indices-of-n-maximum-values-in-a-numpy-array\n",
    "\n",
    "## Arguments - pointData is m x n np array, with n points of m dimensions\n",
    "# pointD numNeighbors is the number of nearest neighbors for which to compare classes\n",
    "#\n",
    "## returns - an array of length n where array[i] is the fraction of neighbors of point i \n",
    "#            had the same class as point i\n",
    "def calculateKNNClassAccuracy_pairwise(pointData, numNeighbors, printTimes=False):\n",
    "    startTime = timeMod.time()\n",
    "    pairwiseDist = dist.cdist(pointData, pointData)\n",
    "    if printTimes:\n",
    "        print \"pairwise distances calculated\", timeMod.time() - startTime\n",
    "    kPartition = np.argpartition(pairwiseDist, -numNeighbors)\n",
    "    if printTimes:\n",
    "        print \"partitions calculated\", timeMod.time() - startTime\n",
    "    fracSameNeighborClasses = np.zeros((len(data)))\n",
    "    \n",
    "    for i in range(len(pairwiseDist)):\n",
    "        neighborIndexes = kPartition[i][-numNeighbors:]\n",
    "        neighbors = [data[ind] for ind in neighborIndexes]\n",
    "        \n",
    "        sampleClass = drumClasses[tuple(data[i])]\n",
    "        neighborClasses = [drumClasses[tuple(neighbor)] for neighbor in neighbors]\n",
    "        numSameNeighborClasses = len(filter(lambda c : c == sampleClass, neighborClasses))\n",
    "        fracSameNeighborClasses[i] = numSameNeighborClasses * 1.0 / numNeighbors\n",
    "    \n",
    "    if printTimes:\n",
    "        print \"knn classes calculated\", timeMod.time() - startTime\n",
    "        \n",
    "    return fracSameNeighborClasses\n",
    "\n",
    "#classAccuracies_LD = calculateKNNClassAccuracy(newData, numNeighbors, True)\n",
    "classAccuracies_HD = calculateKNNClassAccuracy_pairwise(data, numNeighbors, True)"
   ]
  },
  {
   "cell_type": "code",
   "execution_count": null,
   "metadata": {
    "collapsed": true
   },
   "outputs": [],
   "source": []
  }
 ],
 "metadata": {
  "kernelspec": {
   "display_name": "Python 2",
   "language": "python",
   "name": "python2"
  },
  "language_info": {
   "codemirror_mode": {
    "name": "ipython",
    "version": 2
   },
   "file_extension": ".py",
   "mimetype": "text/x-python",
   "name": "python",
   "nbconvert_exporter": "python",
   "pygments_lexer": "ipython2",
   "version": "2.7.13"
  }
 },
 "nbformat": 4,
 "nbformat_minor": 2
}
