{
 "cells": [
  {
   "cell_type": "markdown",
   "metadata": {},
   "source": [
    "After running ofxAssignment or CloudToGrid to get a grid, this notebook will convert the output .tsv to a spritesheet. It will also output "
   ]
  },
  {
   "cell_type": "code",
   "execution_count": null,
   "metadata": {
    "collapsed": true
   },
   "outputs": [],
   "source": [
    "data_root = 'data/drums/'\n",
    "perplexity = 100 # perplexity of source embedding\n",
    "rows = 32\n",
    "cols = 32"
   ]
  },
  {
   "cell_type": "code",
   "execution_count": null,
   "metadata": {
    "collapsed": true
   },
   "outputs": [],
   "source": [
    "%matplotlib inline\n",
    "from matplotlib import pyplot as plt\n",
    "from os.path import join\n",
    "import numpy as np\n",
    "from utils import *"
   ]
  },
  {
   "cell_type": "code",
   "execution_count": null,
   "metadata": {
    "collapsed": false
   },
   "outputs": [],
   "source": [
    "data = np.load(join(data_root, 'fingerprints.npy')).astype(np.float64)\n",
    "data = data.reshape(len(data), -1) # flatten"
   ]
  },
  {
   "cell_type": "markdown",
   "metadata": {},
   "source": [
    "First we save an unsorted spritesheet (or really, sorted in the same order as the filenames and points)."
   ]
  },
  {
   "cell_type": "code",
   "execution_count": null,
   "metadata": {
    "collapsed": false
   },
   "outputs": [],
   "source": [
    "show_array(255 * make_mosaic(data, nx=cols, ny=rows), filename=join(data_root, 'spritesheet.png'))"
   ]
  },
  {
   "cell_type": "markdown",
   "metadata": {},
   "source": [
    "Then we construct the sorted / grid spritesheet."
   ]
  },
  {
   "cell_type": "code",
   "execution_count": null,
   "metadata": {
    "collapsed": false
   },
   "outputs": [],
   "source": [
    "base = '{}.{}x{}'.format(p, cols, rows)\n",
    "fn = join(data_root, 'grid/', base + '.tsv')\n",
    "print 'Trying to load grid from', fn\n",
    "grid = np.genfromtxt(fn)\n",
    "combined = zip(grid, data)\n",
    "combined = sorted(combined, key=lambda x: (x[0][1], x[0][0]))\n",
    "grid_sorted, data_sorted = zip(*combined)\n",
    "data_sorted = np.asarray(data_sorted)\n",
    "show_array(255 * make_mosaic(data_sorted, nx=cols, ny=rows), filename=join(data_root, base + '.png'))"
   ]
  }
 ],
 "metadata": {
  "kernelspec": {
   "display_name": "Python 2",
   "language": "python",
   "name": "python2"
  },
  "language_info": {
   "codemirror_mode": {
    "name": "ipython",
    "version": 2
   },
   "file_extension": ".py",
   "mimetype": "text/x-python",
   "name": "python",
   "nbconvert_exporter": "python",
   "pygments_lexer": "ipython2",
   "version": "2.7.11"
  }
 },
 "nbformat": 4,
 "nbformat_minor": 0
}
