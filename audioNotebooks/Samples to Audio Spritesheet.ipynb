{
 "cells": [
  {
   "cell_type": "code",
   "execution_count": null,
   "metadata": {
    "collapsed": true
   },
   "outputs": [],
   "source": [
    "data_root = 'data/drums/'\n",
    "sr = 48000 # this is the samplerate initially used to load the samples\n",
    "total_limit = 100 #None # set this to 100 to export 100 samples\n",
    "length_limit = sr/8 # set this to sr/4 to only export 250ms of audio per sample"
   ]
  },
  {
   "cell_type": "code",
   "execution_count": null,
   "metadata": {
    "collapsed": false
   },
   "outputs": [],
   "source": [
    "from os.path import join\n",
    "from utils import ffmpeg_save_audio\n",
    "import numpy as np\n",
    "%time samples = np.load(join(data_root, 'samples.npy'))"
   ]
  },
  {
   "cell_type": "code",
   "execution_count": null,
   "metadata": {
    "collapsed": false
   },
   "outputs": [],
   "source": [
    "y = samples[:total_limit, :length_limit].reshape(-1)\n",
    "%time ffmpeg_save_audio(data_root + 'spritesheet.mp3', y, sr)"
   ]
  }
 ],
 "metadata": {
  "kernelspec": {
   "display_name": "Python 2",
   "language": "python",
   "name": "python2"
  },
  "language_info": {
   "codemirror_mode": {
    "name": "ipython",
    "version": 2
   },
   "file_extension": ".py",
   "mimetype": "text/x-python",
   "name": "python",
   "nbconvert_exporter": "python",
   "pygments_lexer": "ipython2",
   "version": "2.7.11"
  }
 },
 "nbformat": 4,
 "nbformat_minor": 0
}
