{
 "cells": [
  {
   "cell_type": "code",
   "execution_count": 23,
   "metadata": {
    "collapsed": true
   },
   "outputs": [],
   "source": [
    "data_root = 'drumData/'\n",
    "sr = 48000 # this is the samplerate initially used to load the samples\n",
    "total_limit = 100 #None # set this to 100 to export 100 samples\n",
    "length_limit = sr/4 # set this to sr/4 to only export 250ms of audio per sample\n",
    "downsampling_factor = 4\n",
    "drumSprites = {}\n",
    "limit = None"
   ]
  },
  {
   "cell_type": "code",
   "execution_count": 62,
   "metadata": {},
   "outputs": [],
   "source": [
    "from os.path import join\n",
    "from utils import ffmpeg_save_audio\n",
    "import numpy as np\n",
    "from multiprocessing import Pool\n",
    "import pickle\n",
    "import time as timeMod\n",
    "import scipy.spatial\n",
    "import scipy.spatial.distance as dist \n",
    "#%time samples = np.load(join(data_root, 'samples.npy'))"
   ]
  },
  {
   "cell_type": "markdown",
   "metadata": {},
   "source": [
    "# Load samples"
   ]
  },
  {
   "cell_type": "code",
   "execution_count": 54,
   "metadata": {},
   "outputs": [
    {
     "name": "stdout",
     "output_type": "stream",
     "text": [
      "CPU times: user 6.34 ms, sys: 207 ms, total: 214 ms\n",
      "Wall time: 303 ms\n",
      "CPU times: user 682 µs, sys: 15.9 ms, total: 16.6 ms\n",
      "Wall time: 25.9 ms\n",
      "CPU times: user 4.14 ms, sys: 102 ms, total: 106 ms\n",
      "Wall time: 167 ms\n",
      "CPU times: user 3.06 ms, sys: 58.3 ms, total: 61.3 ms\n",
      "Wall time: 121 ms\n",
      "CPU times: user 351 µs, sys: 7.31 ms, total: 7.66 ms\n",
      "Wall time: 15.7 ms\n",
      "CPU times: user 2.74 ms, sys: 16.6 ms, total: 19.3 ms\n",
      "Wall time: 60.9 ms\n",
      "CPU times: user 1.74 ms, sys: 32.2 ms, total: 33.9 ms\n",
      "Wall time: 66.4 ms\n"
     ]
    }
   ],
   "source": [
    "drumNames = pickle.load(open(data_root+'drumNames.pickle'))\n",
    "drumLengths = pickle.load(open(data_root+'drumLengths.pickle'))\n",
    "drumFingerPrints = {}\n",
    "drumSamples = {}\n",
    "for d in drumNames:\n",
    "    %time drumSamples[d] = np.load(join(data_root, d+'_samples.npy'))"
   ]
  },
  {
   "cell_type": "code",
   "execution_count": 55,
   "metadata": {},
   "outputs": [
    {
     "name": "stdout",
     "output_type": "stream",
     "text": [
      "['kick', 'tom', 'snare', 'clap', 'hi.hat', 'ride', 'crash'] [5158, 422, 2546, 1324, 159, 228, 723]\n"
     ]
    }
   ],
   "source": [
    "print drumNames, drumLengths"
   ]
  },
  {
   "cell_type": "markdown",
   "metadata": {},
   "source": [
    "# Compute sprites"
   ]
  },
  {
   "cell_type": "code",
   "execution_count": 56,
   "metadata": {},
   "outputs": [
    {
     "name": "stdout",
     "output_type": "stream",
     "text": [
      "generated spritesheet print for kick (5158, 3000)\n",
      "generated spritesheet print for tom (422, 3000)\n",
      "generated spritesheet print for snare (2546, 3000)\n",
      "generated spritesheet print for clap (1324, 3000)\n",
      "generated spritesheet print for hi.hat (159, 3000)\n",
      "generated spritesheet print for ride (228, 3000)\n",
      "generated spritesheet print for crash (723, 3000)\n"
     ]
    }
   ],
   "source": [
    "# take a sample, crop it, and down sample it\n",
    "def job(samp, length_limit, downsampling_factor):\n",
    "    shortSamp = samp[:length_limit]\n",
    "    if len(shortSamp) < length_limit:\n",
    "        shortSamp = np.pad(shortSamp, (0, length_limit-len(shortSamp)), 'constant', constant_values=0)\n",
    "    downShortSamp = np.interp(np.arange(0, length_limit, downsampling_factor), np.arange(0, length_limit), shortSamp)\n",
    "    return downShortSamp\n",
    "\n",
    "def calculateSprites(length_limit, downsampling_factor):\n",
    "    _drumSprites = {}\n",
    "    for d in drumNames:\n",
    "        y = drumSamples[d]\n",
    "        sprites = map(lambda samp: job(samp, length_limit, downsampling_factor), drumSamples[d][:limit])\n",
    "        sprites = np.asarray(sprites).astype(np.float32)\n",
    "        _drumSprites[d] = sprites\n",
    "        print \"generated spritesheet print for\", d, sprites.shape\n",
    "    return drumSprites\n",
    "\n",
    "drumSprites = calculateSprites(length_limit, downsampling_factor)\n",
    "data = np.concatenate([drumSprites[d] for d in drumNames])"
   ]
  },
  {
   "cell_type": "markdown",
   "metadata": {},
   "source": [
    "### Common setup "
   ]
  },
  {
   "cell_type": "code",
   "execution_count": 57,
   "metadata": {},
   "outputs": [],
   "source": [
    "# create point -> class hashmap\n",
    "def getClassesPerSample(data):\n",
    "    drumClasses = {}\n",
    "    classIndex = 0\n",
    "    for i in range(len(data)):\n",
    "        if sum(drumLengths[0:classIndex+1]) <= i:\n",
    "            classIndex += 1\n",
    "        drumClasses[tuple(data[i])] = drumNames[classIndex]\n",
    "    return drumClasses\n",
    "\n",
    "drumClasses = getClassesPerSample(data)\n",
    "\n",
    "numNeighbors = 10\n",
    "\n",
    "## Arguments\n",
    "## data -    an array of length n where array[i] is the fraction of neighbors of point i \n",
    "#            had the same class as point i.\n",
    "# numPerClass - Assumes that points from the same class are contiguous and in\n",
    "#            the same order as drumNames. Should use drumLengths for this parameter\n",
    "# calcFunc - The summary statistic you want to calcuate per class (mean, medain, etc)\n",
    "def calculateFuncPerClass(data, numPerClass, calcFunc):\n",
    "    segments = [0]+numPerClass\n",
    "    for i in range(1, len(segments)):\n",
    "        segments[i] = segments[i] + segments[i-1]\n",
    "    valuesPerClass = []\n",
    "    for i in range(len(segments)-1):\n",
    "        valuesPerClass.append(calcFunc(data[segments[i]:segments[i+1]]))\n",
    "    return valuesPerClass"
   ]
  },
  {
   "cell_type": "markdown",
   "metadata": {},
   "source": [
    "### pairwise distance implementation"
   ]
  },
  {
   "cell_type": "code",
   "execution_count": 63,
   "metadata": {},
   "outputs": [
    {
     "name": "stdout",
     "output_type": "stream",
     "text": [
      "pairwise distances calculated 333.950196028\n",
      "partitions calculated 335.279674053\n",
      "knn classes calculated 360.15080595\n"
     ]
    }
   ],
   "source": [
    "#using https://docs.scipy.org/doc/scipy-0.19.0/reference/generated/scipy.spatial.distance.cdist.html\n",
    "#and argpartition from - https://stackoverflow.com/questions/6910641/how-to-get-indices-of-n-maximum-values-in-a-numpy-array\n",
    "\n",
    "## Arguments - pointData is m x n np array, with n points of m dimensions\n",
    "# pointD numNeighbors is the number of nearest neighbors for which to compare classes\n",
    "#\n",
    "## returns - an array of length n where array[i] is the fraction of neighbors of point i \n",
    "#            had the same class as point i\n",
    "def calculateKNNClassAccuracy_pairwise(pointData, numNeighbors, printTimes=False):\n",
    "    startTime = timeMod.time()\n",
    "    pairwiseDist = dist.cdist(pointData, pointData)\n",
    "    if printTimes:\n",
    "        print \"pairwise distances calculated\", timeMod.time() - startTime\n",
    "    kPartition = np.argpartition(pairwiseDist, -numNeighbors)\n",
    "    if printTimes:\n",
    "        print \"partitions calculated\", timeMod.time() - startTime\n",
    "    fracSameNeighborClasses = np.zeros((len(data)))\n",
    "    \n",
    "    for i in range(len(pairwiseDist)):\n",
    "        neighborIndexes = kPartition[i][-numNeighbors:]\n",
    "        neighbors = [data[ind] for ind in neighborIndexes]\n",
    "        \n",
    "        sampleClass = drumClasses[tuple(data[i])]\n",
    "        neighborClasses = [drumClasses[tuple(neighbor)] for neighbor in neighbors]\n",
    "        numSameNeighborClasses = len(filter(lambda c : c == sampleClass, neighborClasses))\n",
    "        fracSameNeighborClasses[i] = numSameNeighborClasses * 1.0 / numNeighbors\n",
    "    \n",
    "    if printTimes:\n",
    "        print \"knn classes calculated\", timeMod.time() - startTime\n",
    "        \n",
    "    return fracSameNeighborClasses\n",
    "\n",
    "#classAccuracies_LD = calculateKNNClassAccuracy(newData, numNeighbors, True)\n",
    "classAccuracies_HD = calculateKNNClassAccuracy_pairwise(data, numNeighbors, True)"
   ]
  },
  {
   "cell_type": "code",
   "execution_count": null,
   "metadata": {
    "collapsed": true
   },
   "outputs": [],
   "source": []
  }
 ],
 "metadata": {
  "kernelspec": {
   "display_name": "Python 2",
   "language": "python",
   "name": "python2"
  },
  "language_info": {
   "codemirror_mode": {
    "name": "ipython",
    "version": 2
   },
   "file_extension": ".py",
   "mimetype": "text/x-python",
   "name": "python",
   "nbconvert_exporter": "python",
   "pygments_lexer": "ipython2",
   "version": "2.7.13"
  }
 },
 "nbformat": 4,
 "nbformat_minor": 1
}
